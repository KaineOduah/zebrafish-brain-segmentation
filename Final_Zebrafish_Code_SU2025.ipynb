{
 "nbformat": 4,
 "nbformat_minor": 0,
 "metadata": {
  "colab": {
   "provenance": [],
   "gpuType": "T4"
  },
  "kernelspec": {
   "name": "python3",
   "display_name": "Python 3"
  },
  "language_info": {
   "name": "python"
  },
  "accelerator": "GPU"
 },
 "cells": [
  {
   "cell_type": "markdown",
   "source": [
    "#install necessary libraries"
   ],
   "metadata": {
    "id": "EhAqjfGbFlBu"
   }
  },
  {
   "cell_type": "code",
   "source": [
    "!pip install torch cairosvg opencv-python-headless segmentation-models-pytorch -q"
   ],
   "metadata": {
    "id": "8ITYhbrV6pTX",
    "colab": {
     "base_uri": "https://localhost:8080/"
    },
    "outputId": "4d36e7f3-9658-4cad-f088-eaf0b71a9c84"
   },
   "execution_count": null,
   "outputs": [
    {
     "output_type": "stream",
     "name": "stdout",
     "text": [
      "\u001b[2K   \u001b[90m━━━━━━━━━━━━━━━━━━━━━━━━━━━━━━━━━━━━━━━━\u001b[0m \u001b[32m363.4/363.4 MB\u001b[0m \u001b[31m4.0 MB/s\u001b[0m eta \u001b[36m0:00:00\u001b[0m\n",
      "\u001b[2K   \u001b[90m━━━━━━━━━━━━━━━━━━━━━━━━━━━━━━━━━━━━━━━━\u001b[0m \u001b[32m13.8/13.8 MB\u001b[0m \u001b[31m60.3 MB/s\u001b[0m eta \u001b[36m0:00:00\u001b[0m\n",
      "\u001b[2K   \u001b[90m━━━━━━━━━━━━━━━━━━━━━━━━━━━━━━━━━━━━━━━━\u001b[0m \u001b[32m24.6/24.6 MB\u001b[0m \u001b[31m62.0 MB/s\u001b[0m eta \u001b[36m0:00:00\u001b[0m\n",
      "\u001b[2K   \u001b[90m━━━━━━━━━━━━━━━━━━━━━━━━━━━━━━━━━━━━━━━━\u001b[0m \u001b[32m883.7/883.7 kB\u001b[0m \u001b[31m25.3 MB/s\u001b[0m eta \u001b[36m0:00:00\u001b[0m\n",
      "\u001b[2K   \u001b[90m━━━━━━━━━━━━━━━━━━━━━━━━━━━━━━━━━━━━━━━━\u001b[0m \u001b[32m664.8/664.8 MB\u001b[0m \u001b[31m2.9 MB/s\u001b[0m eta \u001b[36m0:00:00\u001b[0m\n",
      "\u001b[2K   \u001b[90m━━━━━━━━━━━━━━━━━━━━━━━━━━━━━━━━━━━━━━━━\u001b[0m \u001b[32m211.5/211.5 MB\u001b[0m \u001b[31m5.4 MB/s\u001b[0m eta \u001b[36m0:00:00\u001b[0m\n",
      "\u001b[2K   \u001b[90m━━━━━━━━━━━━━━━━━━━━━━━━━━━━━━━━━━━━━━━━\u001b[0m \u001b[32m56.3/56.3 MB\u001b[0m \u001b[31m13.4 MB/s\u001b[0m eta \u001b[36m0:00:00\u001b[0m\n",
      "\u001b[2K   \u001b[90m━━━━━━━━━━━━━━━━━━━━━━━━━━━━━━━━━━━━━━━━\u001b[0m \u001b[32m127.9/127.9 MB\u001b[0m \u001b[31m7.5 MB/s\u001b[0m eta \u001b[36m0:00:00\u001b[0m\n",
      "\u001b[2K   \u001b[90m━━━━━━━━━━━━━━━━━━━━━━━━━━━━━━━━━━━━━━━━\u001b[0m \u001b[32m207.5/207.5 MB\u001b[0m \u001b[31m5.2 MB/s\u001b[0m eta \u001b[36m0:00:00\u001b[0m\n",
      "\u001b[2K   \u001b[90m━━━━━━━━━━━━━━━━━━━━━━━━━━━━━━━━━━━━━━━━\u001b[0m \u001b[32m188.7/188.7 MB\u001b[0m \u001b[31m5.9 MB/s\u001b[0m eta \u001b[36m0:00:00\u001b[0m\n",
      "\u001b[2K   \u001b[90m━━━━━━━━━━━━━━━━━━━━━━━━━━━━━━━━━━━━━━━━\u001b[0m \u001b[32m21.1/21.1 MB\u001b[0m \u001b[31m103.7 MB/s\u001b[0m eta \u001b[36m0:00:00\u001b[0m\n",
      "\u001b[2K   \u001b[90m━━━━━━━━━━━━━━━━━━━━━━━━━━━━━━━━━━━━━━━━\u001b[0m \u001b[32m45.8/45.8 kB\u001b[0m \u001b[31m3.6 MB/s\u001b[0m eta \u001b[36m0:00:00\u001b[0m\n",
      "\u001b[2K   \u001b[90m━━━━━━━━━━━━━━━━━━━━━━━━━━━━━━━━━━━━━━━━\u001b[0m \u001b[32m154.8/154.8 kB\u001b[0m \u001b[31m15.8 MB/s\u001b[0m eta \u001b[36m0:00:00\u001b[0m\n",
      "\u001b[2K   \u001b[90m━━━━━━━━━━━━━━━━━━━━━━━━━━━━━━━━━━━━━━━━\u001b[0m \u001b[32m75.6/75.6 kB\u001b[0m \u001b[31m7.5 MB/s\u001b[0m eta \u001b[36m0:00:00\u001b[0m\n",
      "\u001b[?25h"
     ]
    }
   ]
  },
  {
   "cell_type": "code",
   "source": [
    "from google.colab import drive\n",
    "drive.mount('/content/drive')"
   ],
   "metadata": {
    "id": "6WIq8hyF3Ma4",
    "colab": {
     "base_uri": "https://localhost:8080/"
    },
    "outputId": "016e5e2c-ed15-42d2-cac6-c75831a1c913"
   },
   "execution_count": null,
   "outputs": [
    {
     "output_type": "stream",
     "name": "stdout",
     "text": [
      "Mounted at /content/drive\n"
     ]
    }
   ]
  },
  {
   "cell_type": "markdown",
   "source": [
    "# import Libraries"
   ],
   "metadata": {
    "id": "uB7WTnzW6xEE"
   }
  },
  {
   "cell_type": "code",
   "source": [
    "\n",
    "# Step 2: Imports\n",
    "import os\n",
    "from tqdm import tqdm\n",
    "import cv2\n",
    "import numpy as np\n",
    "from PIL import Image\n",
    "#import cairosvg\n",
    "from glob import glob\n",
    "import torch\n",
    "from torch.utils.data import Dataset, DataLoader\n",
    "import torch.nn as nn\n",
    "import torchvision.transforms as T\n",
    "import matplotlib.pyplot as plt\n",
    "import segmentation_models_pytorch as smp\n",
    "from sklearn.model_selection import train_test_split\n",
    "from sklearn.metrics import precision_score, recall_score, f1_score, accuracy_score\n",
    "\n",
    "import os\n",
    "import cv2\n",
    "import torch\n",
    "import numpy as np\n",
    "import matplotlib.pyplot as plt\n",
    "from torch.utils.data import Dataset, DataLoader, random_split\n",
    "from sklearn.metrics import accuracy_score, precision_score, recall_score, f1_score, jaccard_score\n",
    "import segmentation_models_pytorch as smp\n",
    "from torchvision import transforms\n",
    "import albumentations as A\n",
    "from albumentations.pytorch import ToTensorV2\n",
    "from sklearn.model_selection import train_test_split"
   ],
   "metadata": {
    "id": "-KO9VjH0609E"
   },
   "execution_count": null,
   "outputs": []
  },
  {
   "cell_type": "code",
   "source": [
    "import os\n",
    "from glob import glob\n",
    "\n",
    "# Set the root directory\n",
    "root_dir = r'/content/drive/MyDrive/Zebrafish Segmentation'\n",
    "#root_dir = r'D:\\OneDrive - The Pennsylvania State University\\Research DATA\\Zebrafish Data\\Zebrafish Segmentation'\n",
    "\n",
    "# Recursively find all .tif (image) and .png (mask) files\n",
    "image_paths = glob(os.path.join(root_dir, '**', '*.tif'), recursive=True)\n",
    "mask_paths = glob(os.path.join(root_dir, '**', '*.png'), recursive=True)\n",
    "\n",
    "# Build lookup dictionaries using the filename without extension as key\n",
    "image_dict = {os.path.splitext(os.path.basename(p))[0]: p for p in image_paths}\n",
    "mask_dict = {os.path.splitext(os.path.basename(p))[0]: p for p in mask_paths}\n",
    "\n",
    "# Get only the common filenames that exist in both\n",
    "common_keys = sorted(set(image_dict.keys()) & set(mask_dict.keys()))\n",
    "\n",
    "# Filter matched pairs\n",
    "matched_image_paths = [image_dict[k] for k in common_keys]\n",
    "matched_mask_paths = [mask_dict[k] for k in common_keys]\n",
    "\n",
    "# Display final matched count\n",
    "print(f\"Total matched image-mask pairs: {len(matched_image_paths)}\")\n",
    "\n",
    "# Optionally display the first few matches\n",
    "for i in range(min(5, len(matched_image_paths))):\n",
    "    print(f\"Image: {matched_image_paths[i]}\")\n",
    "    print(f\"Mask : {matched_mask_paths[i]}\")\n"
   ],
   "metadata": {
    "id": "EwDomucSEIRr",
    "colab": {
     "base_uri": "https://localhost:8080/"
    },
    "outputId": "91cabd58-1979-4651-c0b7-2e95b7390502"
   },
   "execution_count": null,
   "outputs": [
    {
     "output_type": "stream",
     "name": "stdout",
     "text": [
      "Total matched image-mask pairs: 19\n",
      "Image: /content/drive/MyDrive/Zebrafish Segmentation/7.8mm/Coronal/Image/16255-7.8mmC#9.tif\n",
      "Mask : /content/drive/MyDrive/Zebrafish Segmentation/7.8mm/Coronal/Mask/All Organs/16255-7.8mmC#9.png\n",
      "Image: /content/drive/MyDrive/Zebrafish Segmentation/7.8mm/Coronal/Image/16260-7.8mmC#14.tif\n",
      "Mask : /content/drive/MyDrive/Zebrafish Segmentation/7.8mm/Coronal/Mask/All Organs/16260-7.8mmC#14.png\n",
      "Image: /content/drive/MyDrive/Zebrafish Segmentation/7.8mm/Coronal/Image/16264-7.8mmC#16.tif\n",
      "Mask : /content/drive/MyDrive/Zebrafish Segmentation/7.8mm/Coronal/Mask/All Organs/16264-7.8mmC#16.png\n",
      "Image: /content/drive/MyDrive/Zebrafish Segmentation/3dpf/Coronal/Image/20_1727_10-3dpfC#10can.tif\n",
      "Mask : /content/drive/MyDrive/Zebrafish Segmentation/3dpf/Coronal/Mask/Brain/20_1727_10-3dpfC#10can.png\n",
      "Image: /content/drive/MyDrive/Zebrafish Segmentation/3dpf/Coronal/Image/20_1728_11-3dpfC#11can.tif\n",
      "Mask : /content/drive/MyDrive/Zebrafish Segmentation/3dpf/Coronal/Mask/All Organs/20_1728_11-3dpfC#11can.png\n"
     ]
    }
   ]
  },
  {
   "cell_type": "code",
   "source": [
    "#train_imgs, val_imgs, train_masks, val_masks = train_test_split(image_paths, mask_paths, test_size=0.2, random_state=42)\n",
    "train_imgs, val_imgs, train_masks, val_masks = train_test_split(matched_image_paths, matched_mask_paths, test_size=0.2, random_state=42)\n",
    "print(len(train_imgs), len(val_imgs), len(train_masks), len(val_masks))"
   ],
   "metadata": {
    "id": "IB95kUgE7AQt",
    "colab": {
     "base_uri": "https://localhost:8080/"
    },
    "outputId": "67452ab9-fd3c-474f-e43f-84d2b35899b7"
   },
   "execution_count": null,
   "outputs": [
    {
     "output_type": "stream",
     "name": "stdout",
     "text": [
      "15 4 15 4\n"
     ]
    }
   ]
  },
  {
   "cell_type": "markdown",
   "source": [
    "# check gpu"
   ],
   "metadata": {
    "id": "E_fkRqF_R9eT"
   }
  },
  {
   "cell_type": "code",
   "source": [
    "import torch\n",
    "\n",
    "print(\"CUDA available:\", torch.cuda.is_available())\n",
    "print(\"Device:\", torch.device(\"cuda\" if torch.cuda.is_available() else \"cpu\"))\n",
    "if torch.cuda.is_available():\n",
    "    print(\"GPU Name:\", torch.cuda.get_device_name(0))"
   ],
   "metadata": {
    "id": "EA_hw705lGCi",
    "colab": {
     "base_uri": "https://localhost:8080/"
    },
    "outputId": "f2aca606-199c-4f61-e906-ef9d823ee732"
   },
   "execution_count": null,
   "outputs": [
    {
     "output_type": "stream",
     "name": "stdout",
     "text": [
      "CUDA available: True\n",
      "Device: cuda\n",
      "GPU Name: Tesla T4\n"
     ]
    }
   ]
  },
  {
   "cell_type": "code",
   "source": [
    "import torch\n",
    "device = torch.device(\"cuda\" if torch.cuda.is_available() else \"cpu\")\n",
    "print(device)"
   ],
   "metadata": {
    "id": "teUCoL3ZR9Pm",
    "colab": {
     "base_uri": "https://localhost:8080/"
    },
    "outputId": "abe9ff2e-eef4-4fc5-bfbd-8c9258f2e09c"
   },
   "execution_count": null,
   "outputs": [
    {
     "output_type": "stream",
     "name": "stdout",
     "text": [
      "cuda\n"
     ]
    }
   ]
  },
  {
   "cell_type": "code",
   "source": [
    "def get_transforms(\n",
    "    use_flip=True,\n",
    "    use_rotate=True,\n",
    "    use_brightness=False,\n",
    "    use_noise=False,\n",
    "    image_height=256,\n",
    "    image_width=256*4\n",
    "):\n",
    "    aug_list = []\n",
    "\n",
    "    if use_flip:\n",
    "        aug_list.append(A.HorizontalFlip(p=0.5))\n",
    "        aug_list.append(A.VerticalFlip(p=0.5))\n",
    "\n",
    "    if use_rotate:\n",
    "        aug_list.append(A.Rotate(limit=30, p=0.5))  # Random rotation ±30 degrees\n",
    "\n",
    "    if use_brightness:\n",
    "        aug_list.append(A.RandomBrightnessContrast(p=0.5))\n",
    "\n",
    "    if use_noise:\n",
    "        aug_list.append(A.GaussNoise(p=0.5))\n",
    "\n",
    "    # Always do resizing and normalization\n",
    "    aug_list.extend([\n",
    "        #A.Resize(image_size, image_size),\n",
    "        A.Resize(height=image_height, width=image_width),\n",
    "        A.Normalize(),\n",
    "        ToTensorV2()\n",
    "    ])\n",
    "\n",
    "    return A.Compose(aug_list)\n"
   ],
   "metadata": {
    "id": "FdT_kLiINiim"
   },
   "execution_count": null,
   "outputs": []
  },
  {
   "cell_type": "code",
   "source": [
    "\n",
    "\n",
    "\n",
    "print (\"Dataset loading start \")\n",
    "# Set device\n",
    "\n",
    "\n",
    "# Assuming matched_image_paths and matched_mask_paths are defined already\n",
    "# Ensure matching by file name (done earlier)\n",
    "# Split into train and test (80/20)\n",
    "train_imgs, test_imgs, train_masks, test_masks = train_test_split(\n",
    "    matched_image_paths, matched_mask_paths, test_size=0.2, random_state=42\n",
    ")\n",
    "\n",
    "# Define Dataset\n",
    "class ZebrafishDataset(Dataset):\n",
    "    def __init__(self, image_paths, mask_paths, transform=None):\n",
    "        self.image_paths = image_paths\n",
    "        self.mask_paths = mask_paths\n",
    "        self.transform = transform\n",
    "\n",
    "    def __len__(self):\n",
    "        return len(self.image_paths)\n",
    "\n",
    "    def __getitem__(self, idx):\n",
    "        image = cv2.imread(self.image_paths[idx], cv2.IMREAD_COLOR)\n",
    "        image = cv2.cvtColor(image, cv2.COLOR_BGR2RGB)\n",
    "        mask = cv2.imread(self.mask_paths[idx], cv2.IMREAD_GRAYSCALE)\n",
    "        mask = (mask > 0).astype('float32')  # Binary mask\n",
    "\n",
    "        if self.transform:\n",
    "            augmented = self.transform(image=image, mask=mask)\n",
    "            image = augmented['image']\n",
    "            mask = augmented['mask'].unsqueeze(0)\n",
    "\n",
    "        return image, mask\n",
    "\n",
    "# Example config for training\n",
    "train_transform = get_transforms(\n",
    "    use_flip=True,\n",
    "    use_rotate=True,\n",
    "    use_brightness=False,\n",
    "    use_noise=False\n",
    ")\n",
    "\n",
    "# For testing: only resize + normalize, no augmentation\n",
    "test_transform = get_transforms(\n",
    "    use_flip=False,\n",
    "    use_rotate=False,\n",
    "    use_brightness=False,\n",
    "    use_noise=False\n",
    ")\n",
    "\n",
    "\n",
    "# Datasets and Loaders\n",
    "train_dataset = ZebrafishDataset(train_imgs, train_masks, transform=train_transform)\n",
    "test_dataset = ZebrafishDataset(test_imgs, test_masks, transform=test_transform)\n",
    "\n",
    "print(f\"Number of training samples: {len(train_dataset)}\")\n",
    "print(f\"Number of testing samples: {len(test_dataset)}\")\n",
    "\n",
    "train_loader = DataLoader(train_dataset, batch_size=4, shuffle=True)\n",
    "test_loader = DataLoader(test_dataset, batch_size=4, shuffle=False)\n",
    "\n",
    "print(f\"Number of training data loader samples: {len(train_loader)}\")\n",
    "print(f\"Number of testing  data loader samples: {len(test_loader)}\")\n",
    "\n",
    "print (\"Dataset loading complete\")"
   ],
   "metadata": {
    "id": "Iu3dfaFpNzfF",
    "colab": {
     "base_uri": "https://localhost:8080/"
    },
    "outputId": "4433471e-ab7f-478f-c19e-b958ee7b90ea"
   },
   "execution_count": null,
   "outputs": [
    {
     "output_type": "stream",
     "name": "stdout",
     "text": [
      "Dataset loading start \n",
      "Number of training samples: 15\n",
      "Number of testing samples: 4\n",
      "Number of training data loader samples: 4\n",
      "Number of testing  data loader samples: 1\n",
      "Dataset loading complete\n"
     ]
    }
   ]
  },
  {
   "cell_type": "code",
   "source": [
    "\n",
    "print (\"Model loading start\")\n",
    "# Model\n",
    "model = smp.Unet(encoder_name=\"resnet34\", encoder_weights=\"imagenet\", in_channels=3, classes=1, activation=None)\n",
    "model = model.to(device)\n",
    "\n",
    "# Loss & Optimizer\n",
    "loss_fn = smp.losses.DiceLoss(mode='binary')\n",
    "optimizer = torch.optim.Adam(model.parameters(), lr=1e-4)\n",
    "\n",
    "print (\"Model loading complete\")\n",
    "\n",
    "# Training loop\n",
    "train_loss_per_epoch = []\n",
    "accuracy_per_epoch = []\n",
    "\n",
    "num_epochs = 200\n",
    "print(\"\\n--- Epoch results ---\")\n",
    "#for epoch in range(30):\n",
    "for epoch in tqdm(range(num_epochs), desc=\"Training Epochs\"):\n",
    "    model.train()\n",
    "    epoch_loss = 0\n",
    "    correct = 0\n",
    "    total = 0\n",
    "\n",
    "    for images, masks in train_loader:\n",
    "        images, masks = images.to(device), masks.to(device)\n",
    "\n",
    "        optimizer.zero_grad()\n",
    "        outputs = model(images)\n",
    "        loss = loss_fn(outputs, masks)\n",
    "        loss.backward()\n",
    "        optimizer.step()\n",
    "\n",
    "        epoch_loss += loss.item()\n",
    "\n",
    "        preds = torch.sigmoid(outputs) > 0.5\n",
    "        correct += (preds == masks).sum().item()\n",
    "        total += torch.numel(masks)\n",
    "\n",
    "    train_loss_per_epoch.append(epoch_loss / len(train_loader))\n",
    "    accuracy_per_epoch.append(correct / total)\n",
    "\n",
    "    print(f\"Epoch {epoch+1}, Loss: {epoch_loss:.4f}, Accuracy: {correct/total:.4f}\")\n",
    "\n",
    "# Evaluation\n",
    "model.eval()\n",
    "y_true = []\n",
    "y_pred = []\n",
    "\n",
    "with torch.no_grad():\n",
    "    for images, masks in test_loader:\n",
    "        images = images.to(device)\n",
    "        outputs = model(images)\n",
    "        preds = torch.sigmoid(outputs).cpu().numpy() > 0.5\n",
    "        masks = masks.numpy()\n",
    "\n",
    "        y_true.extend(masks.reshape(-1))\n",
    "        y_pred.extend(preds.reshape(-1))\n",
    "\n",
    "# Compute Metrics\n",
    "iou = jaccard_score(y_true, y_pred)\n",
    "acc = accuracy_score(y_true, y_pred)\n",
    "prec = precision_score(y_true, y_pred)\n",
    "rec = recall_score(y_true, y_pred)\n",
    "f1 = f1_score(y_true, y_pred)\n",
    "\n",
    "print(\"\\n--- Evaluation Metrics ---\")\n",
    "print(f\"IoU       : {iou:.4f}\")\n",
    "print(f\"Accuracy  : {acc:.4f}\")\n",
    "print(f\"Precision : {prec:.4f}\")\n",
    "print(f\"Recall    : {rec:.4f}\")\n",
    "print(f\"F1 Score  : {f1:.4f}\")\n",
    "\n",
    "# Plot Loss and Accuracy\n",
    "plt.figure(figsize=(10, 4))\n",
    "plt.subplot(1, 2, 1)\n",
    "plt.plot(train_loss_per_epoch, label='Loss')\n",
    "plt.title('Training Loss by Epoch')\n",
    "plt.xlabel('Epoch')\n",
    "plt.ylabel('Loss')\n",
    "plt.grid()\n",
    "plt.legend()\n",
    "\n",
    "plt.subplot(1, 2, 2)\n",
    "plt.plot(accuracy_per_epoch, label='Accuracy')\n",
    "plt.title('Training Accuracy by Epoch')\n",
    "plt.xlabel('Epoch')\n",
    "plt.ylabel('Accuracy')\n",
    "plt.grid()\n",
    "plt.legend()\n",
    "plt.tight_layout()\n",
    "plt.show()\n"
   ],
   "metadata": {
    "colab": {
     "base_uri": "https://localhost:8080/",
     "height": 1000,
     "referenced_widgets": [
      "1a6a6fc57c354728b7b489e01c86dd02",
      "5e4f6f496bb44d4e8f2c1b15346a44ba",
      "c8dbeec756304fa8b589037e652578a5",
      "619e1f1d7f594ad9ba98a4a5872d9991",
      "a38141b4e3d44907b06ba3879bea4125",
      "39ab8bce6bb64df79d0981d10d3346f6",
      "ceb11f3270ae47fc9a8158e7a63c33c7",
      "d6867dcaeb7b4f89a71f2beabe804b02",
      "3d3e79ab005e479697d92921afb1947e",
      "74babb2802b04e9a90fb0deb6c6cf83d",
      "24c8f29e05334e97970932d1ab72ddd4",
      "72af651df09342eaaf3142373923894a",
      "906df491c2524f659b7c0eb284a58761",
      "232bdd75e06944e6a451213984beb785",
      "db2a9f493ef24d119fe250504ad8196a",
      "e43c04c86b2f49baa5a91df762c14c0c",
      "59bb185d8f0541b391a3472cbe340bfe",
      "ac4e54de49d245f885c6d37d97e11021",
      "fba7bd8c968248099d91206b5b49895d",
      "710c1d37ac834ee289b906e336289171",
      "f400ecb173be4994b795138bfaa7fa23",
      "25f2aab0915e4d6e96d7fcb2d2afff87"
     ]
    },
    "id": "ai0aHu0eIrsF",
    "outputId": "323b8a6c-838f-447c-98d0-ec6ac2819dd5"
   },
   "execution_count": null,
   "outputs": [
    {
     "output_type": "stream",
     "name": "stdout",
     "text": [
      "Model loading start\n"
     ]
    },
    {
     "output_type": "stream",
     "name": "stderr",
     "text": [
      "/usr/local/lib/python3.11/dist-packages/huggingface_hub/utils/_auth.py:94: UserWarning: \n",
      "The secret `HF_TOKEN` does not exist in your Colab secrets.\n",
      "To authenticate with the Hugging Face Hub, create a token in your settings tab (https://huggingface.co/settings/tokens), set it as secret in your Google Colab and restart your session.\n",
      "You will be able to reuse this secret in all of your notebooks.\n",
      "Please note that authentication is recommended but still optional to access public models or datasets.\n",
      "  warnings.warn(\n"
     ]
    },
    {
     "output_type": "display_data",
     "data": {
      "text/plain": [
       "config.json:   0%|          | 0.00/156 [00:00<?, ?B/s]"
      ],
      "application/vnd.jupyter.widget-view+json": {
       "version_major": 2,
       "version_minor": 0,
       "model_id": "1a6a6fc57c354728b7b489e01c86dd02"
      }
     },
     "metadata": {}
    },
    {
     "output_type": "display_data",
     "data": {
      "text/plain": [
       "model.safetensors:   0%|          | 0.00/87.3M [00:00<?, ?B/s]"
      ],
      "application/vnd.jupyter.widget-view+json": {
       "version_major": 2,
       "version_minor": 0,
       "model_id": "72af651df09342eaaf3142373923894a"
      }
     },
     "metadata": {}
    },
    {
     "output_type": "stream",
     "name": "stdout",
     "text": [
      "Model loading complete\n",
      "\n",
      "--- Epoch results ---\n"
     ]
    },
    {
     "output_type": "stream",
     "name": "stderr",
     "text": [
      "Training Epochs:   0%|          | 1/200 [01:05<3:36:12, 65.19s/it]"
     ]
    },
    {
     "output_type": "stream",
     "name": "stdout",
     "text": [
      "Epoch 1, Loss: 3.3624, Accuracy: 0.5809\n"
     ]
    },
    {
     "output_type": "stream",
     "name": "stderr",
     "text": [
      "\rTraining Epochs:   1%|          | 2/200 [01:22<2:02:30, 37.12s/it]"
     ]
    },
    {
     "output_type": "stream",
     "name": "stdout",
     "text": [
      "Epoch 2, Loss: 3.0604, Accuracy: 0.7003\n"
     ]
    },
    {
     "output_type": "stream",
     "name": "stderr",
     "text": [
      "\rTraining Epochs:   2%|▏         | 3/200 [01:40<1:32:22, 28.14s/it]"
     ]
    },
    {
     "output_type": "stream",
     "name": "stdout",
     "text": [
      "Epoch 3, Loss: 3.1161, Accuracy: 0.7094\n"
     ]
    },
    {
     "output_type": "stream",
     "name": "stderr",
     "text": [
      "\rTraining Epochs:   2%|▏         | 4/200 [01:55<1:15:08, 23.00s/it]"
     ]
    },
    {
     "output_type": "stream",
     "name": "stdout",
     "text": [
      "Epoch 4, Loss: 2.8121, Accuracy: 0.7080\n"
     ]
    },
    {
     "output_type": "stream",
     "name": "stderr",
     "text": [
      "\rTraining Epochs:   2%|▎         | 5/200 [02:12<1:08:34, 21.10s/it]"
     ]
    },
    {
     "output_type": "stream",
     "name": "stdout",
     "text": [
      "Epoch 5, Loss: 2.8801, Accuracy: 0.7237\n"
     ]
    },
    {
     "output_type": "stream",
     "name": "stderr",
     "text": [
      "\rTraining Epochs:   3%|▎         | 6/200 [02:29<1:02:44, 19.40s/it]"
     ]
    },
    {
     "output_type": "stream",
     "name": "stdout",
     "text": [
      "Epoch 6, Loss: 2.6351, Accuracy: 0.7731\n"
     ]
    },
    {
     "output_type": "stream",
     "name": "stderr",
     "text": [
      "\rTraining Epochs:   4%|▎         | 7/200 [02:44<58:32, 18.20s/it]  "
     ]
    },
    {
     "output_type": "stream",
     "name": "stdout",
     "text": [
      "Epoch 7, Loss: 2.4884, Accuracy: 0.8085\n"
     ]
    },
    {
     "output_type": "stream",
     "name": "stderr",
     "text": [
      "\rTraining Epochs:   4%|▍         | 8/200 [03:01<56:38, 17.70s/it]"
     ]
    },
    {
     "output_type": "stream",
     "name": "stdout",
     "text": [
      "Epoch 8, Loss: 2.6053, Accuracy: 0.8065\n"
     ]
    },
    {
     "output_type": "stream",
     "name": "stderr",
     "text": [
      "\rTraining Epochs:   4%|▍         | 9/200 [03:18<55:59, 17.59s/it]"
     ]
    },
    {
     "output_type": "stream",
     "name": "stdout",
     "text": [
      "Epoch 9, Loss: 2.8352, Accuracy: 0.8113\n"
     ]
    },
    {
     "output_type": "stream",
     "name": "stderr",
     "text": [
      "\rTraining Epochs:   5%|▌         | 10/200 [03:35<55:16, 17.45s/it]"
     ]
    },
    {
     "output_type": "stream",
     "name": "stdout",
     "text": [
      "Epoch 10, Loss: 2.4479, Accuracy: 0.8300\n"
     ]
    },
    {
     "output_type": "stream",
     "name": "stderr",
     "text": [
      "\rTraining Epochs:   6%|▌         | 11/200 [03:51<53:26, 16.96s/it]"
     ]
    },
    {
     "output_type": "stream",
     "name": "stdout",
     "text": [
      "Epoch 11, Loss: 2.4137, Accuracy: 0.8263\n"
     ]
    },
    {
     "output_type": "stream",
     "name": "stderr",
     "text": [
      "\rTraining Epochs:   6%|▌         | 12/200 [04:08<52:27, 16.74s/it]"
     ]
    },
    {
     "output_type": "stream",
     "name": "stdout",
     "text": [
      "Epoch 12, Loss: 2.2467, Accuracy: 0.8668\n"
     ]
    },
    {
     "output_type": "stream",
     "name": "stderr",
     "text": [
      "\rTraining Epochs:   6%|▋         | 13/200 [04:24<51:53, 16.65s/it]"
     ]
    },
    {
     "output_type": "stream",
     "name": "stdout",
     "text": [
      "Epoch 13, Loss: 2.3122, Accuracy: 0.8773\n"
     ]
    },
    {
     "output_type": "stream",
     "name": "stderr",
     "text": [
      "\rTraining Epochs:   7%|▋         | 14/200 [04:40<51:29, 16.61s/it]"
     ]
    },
    {
     "output_type": "stream",
     "name": "stdout",
     "text": [
      "Epoch 14, Loss: 2.3163, Accuracy: 0.8824\n"
     ]
    },
    {
     "output_type": "stream",
     "name": "stderr",
     "text": [
      "\rTraining Epochs:   8%|▊         | 15/200 [04:56<50:38, 16.43s/it]"
     ]
    },
    {
     "output_type": "stream",
     "name": "stdout",
     "text": [
      "Epoch 15, Loss: 2.4175, Accuracy: 0.8692\n"
     ]
    },
    {
     "output_type": "stream",
     "name": "stderr",
     "text": [
      "\rTraining Epochs:   8%|▊         | 16/200 [05:12<49:07, 16.02s/it]"
     ]
    },
    {
     "output_type": "stream",
     "name": "stdout",
     "text": [
      "Epoch 16, Loss: 2.1435, Accuracy: 0.8829\n"
     ]
    },
    {
     "output_type": "stream",
     "name": "stderr",
     "text": [
      "\rTraining Epochs:   8%|▊         | 17/200 [05:27<48:16, 15.83s/it]"
     ]
    },
    {
     "output_type": "stream",
     "name": "stdout",
     "text": [
      "Epoch 17, Loss: 2.4701, Accuracy: 0.8727\n"
     ]
    },
    {
     "output_type": "stream",
     "name": "stderr",
     "text": [
      "\rTraining Epochs:   9%|▉         | 18/200 [05:44<48:49, 16.09s/it]"
     ]
    },
    {
     "output_type": "stream",
     "name": "stdout",
     "text": [
      "Epoch 18, Loss: 1.9617, Accuracy: 0.9137\n"
     ]
    },
    {
     "output_type": "stream",
     "name": "stderr",
     "text": [
      "\rTraining Epochs:  10%|▉         | 19/200 [06:00<48:52, 16.20s/it]"
     ]
    },
    {
     "output_type": "stream",
     "name": "stdout",
     "text": [
      "Epoch 19, Loss: 2.3167, Accuracy: 0.8749\n"
     ]
    },
    {
     "output_type": "stream",
     "name": "stderr",
     "text": [
      "\rTraining Epochs:  10%|█         | 20/200 [06:16<48:15, 16.08s/it]"
     ]
    },
    {
     "output_type": "stream",
     "name": "stdout",
     "text": [
      "Epoch 20, Loss: 2.0798, Accuracy: 0.9118\n"
     ]
    },
    {
     "output_type": "stream",
     "name": "stderr",
     "text": [
      "\rTraining Epochs:  10%|█         | 21/200 [06:32<48:03, 16.11s/it]"
     ]
    },
    {
     "output_type": "stream",
     "name": "stdout",
     "text": [
      "Epoch 21, Loss: 2.2042, Accuracy: 0.8976\n"
     ]
    },
    {
     "output_type": "stream",
     "name": "stderr",
     "text": [
      "\rTraining Epochs:  11%|█         | 22/200 [06:49<48:25, 16.32s/it]"
     ]
    },
    {
     "output_type": "stream",
     "name": "stdout",
     "text": [
      "Epoch 22, Loss: 2.2713, Accuracy: 0.9011\n"
     ]
    },
    {
     "output_type": "stream",
     "name": "stderr",
     "text": [
      "\rTraining Epochs:  12%|█▏        | 23/200 [07:04<46:40, 15.82s/it]"
     ]
    },
    {
     "output_type": "stream",
     "name": "stdout",
     "text": [
      "Epoch 23, Loss: 1.7091, Accuracy: 0.9249\n"
     ]
    },
    {
     "output_type": "stream",
     "name": "stderr",
     "text": [
      "\rTraining Epochs:  12%|█▏        | 24/200 [07:19<46:16, 15.78s/it]"
     ]
    },
    {
     "output_type": "stream",
     "name": "stdout",
     "text": [
      "Epoch 24, Loss: 1.7964, Accuracy: 0.9241\n"
     ]
    },
    {
     "output_type": "stream",
     "name": "stderr",
     "text": [
      "\rTraining Epochs:  12%|█▎        | 25/200 [07:37<47:23, 16.25s/it]"
     ]
    },
    {
     "output_type": "stream",
     "name": "stdout",
     "text": [
      "Epoch 25, Loss: 2.2491, Accuracy: 0.9177\n"
     ]
    },
    {
     "output_type": "stream",
     "name": "stderr",
     "text": [
      "\rTraining Epochs:  13%|█▎        | 26/200 [07:54<47:44, 16.46s/it]"
     ]
    },
    {
     "output_type": "stream",
     "name": "stdout",
     "text": [
      "Epoch 26, Loss: 2.0449, Accuracy: 0.9176\n"
     ]
    },
    {
     "output_type": "stream",
     "name": "stderr",
     "text": [
      "\rTraining Epochs:  14%|█▎        | 27/200 [08:10<47:05, 16.33s/it]"
     ]
    },
    {
     "output_type": "stream",
     "name": "stdout",
     "text": [
      "Epoch 27, Loss: 2.1307, Accuracy: 0.9039\n"
     ]
    },
    {
     "output_type": "stream",
     "name": "stderr",
     "text": [
      "\rTraining Epochs:  14%|█▍        | 28/200 [08:25<46:23, 16.18s/it]"
     ]
    },
    {
     "output_type": "stream",
     "name": "stdout",
     "text": [
      "Epoch 28, Loss: 1.8318, Accuracy: 0.9306\n"
     ]
    },
    {
     "output_type": "stream",
     "name": "stderr",
     "text": [
      "\rTraining Epochs:  14%|█▍        | 29/200 [08:42<46:54, 16.46s/it]"
     ]
    },
    {
     "output_type": "stream",
     "name": "stdout",
     "text": [
      "Epoch 29, Loss: 1.8572, Accuracy: 0.9424\n"
     ]
    },
    {
     "output_type": "stream",
     "name": "stderr",
     "text": [
      "\rTraining Epochs:  15%|█▌        | 30/200 [08:58<46:08, 16.28s/it]"
     ]
    },
    {
     "output_type": "stream",
     "name": "stdout",
     "text": [
      "Epoch 30, Loss: 2.0606, Accuracy: 0.9332\n"
     ]
    },
    {
     "output_type": "stream",
     "name": "stderr",
     "text": [
      "\rTraining Epochs:  16%|█▌        | 31/200 [09:14<45:28, 16.15s/it]"
     ]
    },
    {
     "output_type": "stream",
     "name": "stdout",
     "text": [
      "Epoch 31, Loss: 1.8808, Accuracy: 0.9479\n"
     ]
    },
    {
     "output_type": "stream",
     "name": "stderr",
     "text": [
      "\rTraining Epochs:  16%|█▌        | 32/200 [09:31<45:38, 16.30s/it]"
     ]
    },
    {
     "output_type": "stream",
     "name": "stdout",
     "text": [
      "Epoch 32, Loss: 1.9552, Accuracy: 0.9334\n"
     ]
    },
    {
     "output_type": "stream",
     "name": "stderr",
     "text": [
      "\rTraining Epochs:  16%|█▋        | 33/200 [09:47<45:34, 16.38s/it]"
     ]
    },
    {
     "output_type": "stream",
     "name": "stdout",
     "text": [
      "Epoch 33, Loss: 1.7531, Accuracy: 0.9317\n"
     ]
    },
    {
     "output_type": "stream",
     "name": "stderr",
     "text": [
      "\rTraining Epochs:  17%|█▋        | 34/200 [10:03<44:33, 16.11s/it]"
     ]
    },
    {
     "output_type": "stream",
     "name": "stdout",
     "text": [
      "Epoch 34, Loss: 1.4876, Accuracy: 0.9522\n"
     ]
    },
    {
     "output_type": "stream",
     "name": "stderr",
     "text": [
      "\rTraining Epochs:  18%|█▊        | 35/200 [10:19<44:04, 16.03s/it]"
     ]
    },
    {
     "output_type": "stream",
     "name": "stdout",
     "text": [
      "Epoch 35, Loss: 1.6171, Accuracy: 0.9470\n"
     ]
    },
    {
     "output_type": "stream",
     "name": "stderr",
     "text": [
      "\rTraining Epochs:  18%|█▊        | 36/200 [10:36<44:51, 16.41s/it]"
     ]
    },
    {
     "output_type": "stream",
     "name": "stdout",
     "text": [
      "Epoch 36, Loss: 1.6738, Accuracy: 0.9312\n"
     ]
    },
    {
     "output_type": "stream",
     "name": "stderr",
     "text": [
      "\rTraining Epochs:  18%|█▊        | 37/200 [10:51<43:42, 16.09s/it]"
     ]
    },
    {
     "output_type": "stream",
     "name": "stdout",
     "text": [
      "Epoch 37, Loss: 1.8091, Accuracy: 0.9162\n"
     ]
    },
    {
     "output_type": "stream",
     "name": "stderr",
     "text": [
      "\rTraining Epochs:  19%|█▉        | 38/200 [11:07<43:19, 16.05s/it]"
     ]
    },
    {
     "output_type": "stream",
     "name": "stdout",
     "text": [
      "Epoch 38, Loss: 1.4975, Accuracy: 0.9518\n"
     ]
    },
    {
     "output_type": "stream",
     "name": "stderr",
     "text": [
      "\rTraining Epochs:  20%|█▉        | 39/200 [11:24<43:50, 16.34s/it]"
     ]
    },
    {
     "output_type": "stream",
     "name": "stdout",
     "text": [
      "Epoch 39, Loss: 1.9422, Accuracy: 0.9498\n"
     ]
    },
    {
     "output_type": "stream",
     "name": "stderr",
     "text": [
      "\rTraining Epochs:  20%|██        | 40/200 [11:43<45:25, 17.03s/it]"
     ]
    },
    {
     "output_type": "stream",
     "name": "stdout",
     "text": [
      "Epoch 40, Loss: 2.1079, Accuracy: 0.9433\n"
     ]
    },
    {
     "output_type": "stream",
     "name": "stderr",
     "text": [
      "\rTraining Epochs:  20%|██        | 41/200 [11:58<43:52, 16.56s/it]"
     ]
    },
    {
     "output_type": "stream",
     "name": "stdout",
     "text": [
      "Epoch 41, Loss: 1.7647, Accuracy: 0.9284\n"
     ]
    },
    {
     "output_type": "stream",
     "name": "stderr",
     "text": [
      "\rTraining Epochs:  21%|██        | 42/200 [12:15<43:28, 16.51s/it]"
     ]
    },
    {
     "output_type": "stream",
     "name": "stdout",
     "text": [
      "Epoch 42, Loss: 1.7620, Accuracy: 0.9495\n"
     ]
    },
    {
     "output_type": "stream",
     "name": "stderr",
     "text": [
      "\rTraining Epochs:  22%|██▏       | 43/200 [12:31<42:35, 16.28s/it]"
     ]
    },
    {
     "output_type": "stream",
     "name": "stdout",
     "text": [
      "Epoch 43, Loss: 1.3659, Accuracy: 0.9517\n"
     ]
    },
    {
     "output_type": "stream",
     "name": "stderr",
     "text": [
      "\rTraining Epochs:  22%|██▏       | 44/200 [12:48<43:26, 16.71s/it]"
     ]
    },
    {
     "output_type": "stream",
     "name": "stdout",
     "text": [
      "Epoch 44, Loss: 1.3899, Accuracy: 0.9579\n"
     ]
    },
    {
     "output_type": "stream",
     "name": "stderr",
     "text": [
      "\rTraining Epochs:  22%|██▎       | 45/200 [13:04<42:14, 16.35s/it]"
     ]
    },
    {
     "output_type": "stream",
     "name": "stdout",
     "text": [
      "Epoch 45, Loss: 1.4033, Accuracy: 0.9619\n"
     ]
    },
    {
     "output_type": "stream",
     "name": "stderr",
     "text": [
      "\rTraining Epochs:  23%|██▎       | 46/200 [13:19<41:20, 16.11s/it]"
     ]
    },
    {
     "output_type": "stream",
     "name": "stdout",
     "text": [
      "Epoch 46, Loss: 1.5436, Accuracy: 0.9515\n"
     ]
    },
    {
     "output_type": "stream",
     "name": "stderr",
     "text": [
      "\rTraining Epochs:  24%|██▎       | 47/200 [13:36<41:11, 16.15s/it]"
     ]
    },
    {
     "output_type": "stream",
     "name": "stdout",
     "text": [
      "Epoch 47, Loss: 1.5386, Accuracy: 0.9449\n"
     ]
    },
    {
     "output_type": "stream",
     "name": "stderr",
     "text": [
      "\rTraining Epochs:  24%|██▍       | 48/200 [13:53<41:43, 16.47s/it]"
     ]
    },
    {
     "output_type": "stream",
     "name": "stdout",
     "text": [
      "Epoch 48, Loss: 1.2686, Accuracy: 0.9641\n"
     ]
    },
    {
     "output_type": "stream",
     "name": "stderr",
     "text": [
      "\rTraining Epochs:  24%|██▍       | 49/200 [14:10<41:48, 16.61s/it]"
     ]
    },
    {
     "output_type": "stream",
     "name": "stdout",
     "text": [
      "Epoch 49, Loss: 1.5615, Accuracy: 0.9582\n"
     ]
    },
    {
     "output_type": "stream",
     "name": "stderr",
     "text": [
      "\rTraining Epochs:  25%|██▌       | 50/200 [14:27<41:46, 16.71s/it]"
     ]
    },
    {
     "output_type": "stream",
     "name": "stdout",
     "text": [
      "Epoch 50, Loss: 1.3448, Accuracy: 0.9643\n"
     ]
    },
    {
     "output_type": "stream",
     "name": "stderr",
     "text": [
      "\rTraining Epochs:  26%|██▌       | 51/200 [14:42<40:27, 16.29s/it]"
     ]
    },
    {
     "output_type": "stream",
     "name": "stdout",
     "text": [
      "Epoch 51, Loss: 1.2697, Accuracy: 0.9745\n"
     ]
    },
    {
     "output_type": "stream",
     "name": "stderr",
     "text": [
      "\rTraining Epochs:  26%|██▌       | 52/200 [14:59<40:19, 16.35s/it]"
     ]
    },
    {
     "output_type": "stream",
     "name": "stdout",
     "text": [
      "Epoch 52, Loss: 1.6949, Accuracy: 0.9588\n"
     ]
    },
    {
     "output_type": "stream",
     "name": "stderr",
     "text": [
      "\rTraining Epochs:  26%|██▋       | 53/200 [15:16<40:45, 16.63s/it]"
     ]
    },
    {
     "output_type": "stream",
     "name": "stdout",
     "text": [
      "Epoch 53, Loss: 1.1544, Accuracy: 0.9690\n"
     ]
    },
    {
     "output_type": "stream",
     "name": "stderr",
     "text": [
      "\rTraining Epochs:  27%|██▋       | 54/200 [15:33<40:51, 16.79s/it]"
     ]
    },
    {
     "output_type": "stream",
     "name": "stdout",
     "text": [
      "Epoch 54, Loss: 1.5971, Accuracy: 0.9519\n"
     ]
    },
    {
     "output_type": "stream",
     "name": "stderr",
     "text": [
      "\rTraining Epochs:  28%|██▊       | 55/200 [15:50<40:49, 16.89s/it]"
     ]
    },
    {
     "output_type": "stream",
     "name": "stdout",
     "text": [
      "Epoch 55, Loss: 1.3515, Accuracy: 0.9620\n"
     ]
    },
    {
     "output_type": "stream",
     "name": "stderr",
     "text": [
      "\rTraining Epochs:  28%|██▊       | 56/200 [16:06<39:53, 16.62s/it]"
     ]
    },
    {
     "output_type": "stream",
     "name": "stdout",
     "text": [
      "Epoch 56, Loss: 1.1880, Accuracy: 0.9667\n"
     ]
    },
    {
     "output_type": "stream",
     "name": "stderr",
     "text": [
      "\rTraining Epochs:  28%|██▊       | 57/200 [16:23<39:52, 16.73s/it]"
     ]
    },
    {
     "output_type": "stream",
     "name": "stdout",
     "text": [
      "Epoch 57, Loss: 1.3617, Accuracy: 0.9541\n"
     ]
    },
    {
     "output_type": "stream",
     "name": "stderr",
     "text": [
      "\rTraining Epochs:  29%|██▉       | 58/200 [16:39<38:47, 16.39s/it]"
     ]
    },
    {
     "output_type": "stream",
     "name": "stdout",
     "text": [
      "Epoch 58, Loss: 1.4611, Accuracy: 0.9691\n"
     ]
    },
    {
     "output_type": "stream",
     "name": "stderr",
     "text": [
      "\rTraining Epochs:  30%|██▉       | 59/200 [16:55<38:26, 16.36s/it]"
     ]
    },
    {
     "output_type": "stream",
     "name": "stdout",
     "text": [
      "Epoch 59, Loss: 1.6411, Accuracy: 0.9420\n"
     ]
    },
    {
     "output_type": "stream",
     "name": "stderr",
     "text": [
      "\rTraining Epochs:  30%|███       | 60/200 [17:10<37:35, 16.11s/it]"
     ]
    },
    {
     "output_type": "stream",
     "name": "stdout",
     "text": [
      "Epoch 60, Loss: 1.1517, Accuracy: 0.9694\n"
     ]
    },
    {
     "output_type": "stream",
     "name": "stderr",
     "text": [
      "\rTraining Epochs:  30%|███       | 61/200 [17:27<37:30, 16.19s/it]"
     ]
    },
    {
     "output_type": "stream",
     "name": "stdout",
     "text": [
      "Epoch 61, Loss: 1.2168, Accuracy: 0.9660\n"
     ]
    },
    {
     "output_type": "stream",
     "name": "stderr",
     "text": [
      "\rTraining Epochs:  31%|███       | 62/200 [17:43<36:58, 16.07s/it]"
     ]
    },
    {
     "output_type": "stream",
     "name": "stdout",
     "text": [
      "Epoch 62, Loss: 1.4914, Accuracy: 0.9576\n"
     ]
    },
    {
     "output_type": "stream",
     "name": "stderr",
     "text": [
      "\rTraining Epochs:  32%|███▏      | 63/200 [17:59<37:07, 16.26s/it]"
     ]
    },
    {
     "output_type": "stream",
     "name": "stdout",
     "text": [
      "Epoch 63, Loss: 1.0233, Accuracy: 0.9662\n"
     ]
    },
    {
     "output_type": "stream",
     "name": "stderr",
     "text": [
      "\rTraining Epochs:  32%|███▏      | 64/200 [18:16<36:59, 16.32s/it]"
     ]
    },
    {
     "output_type": "stream",
     "name": "stdout",
     "text": [
      "Epoch 64, Loss: 1.0344, Accuracy: 0.9727\n"
     ]
    },
    {
     "output_type": "stream",
     "name": "stderr",
     "text": [
      "\rTraining Epochs:  32%|███▎      | 65/200 [18:32<36:45, 16.34s/it]"
     ]
    },
    {
     "output_type": "stream",
     "name": "stdout",
     "text": [
      "Epoch 65, Loss: 1.2949, Accuracy: 0.9505\n"
     ]
    },
    {
     "output_type": "stream",
     "name": "stderr",
     "text": [
      "\rTraining Epochs:  33%|███▎      | 66/200 [18:47<35:45, 16.01s/it]"
     ]
    },
    {
     "output_type": "stream",
     "name": "stdout",
     "text": [
      "Epoch 66, Loss: 1.1145, Accuracy: 0.9682\n"
     ]
    },
    {
     "output_type": "stream",
     "name": "stderr",
     "text": [
      "\rTraining Epochs:  34%|███▎      | 67/200 [19:03<35:17, 15.92s/it]"
     ]
    },
    {
     "output_type": "stream",
     "name": "stdout",
     "text": [
      "Epoch 67, Loss: 1.3208, Accuracy: 0.9716\n"
     ]
    },
    {
     "output_type": "stream",
     "name": "stderr",
     "text": [
      "\rTraining Epochs:  34%|███▍      | 68/200 [19:19<35:04, 15.95s/it]"
     ]
    },
    {
     "output_type": "stream",
     "name": "stdout",
     "text": [
      "Epoch 68, Loss: 1.2382, Accuracy: 0.9601\n"
     ]
    },
    {
     "output_type": "stream",
     "name": "stderr",
     "text": [
      "\rTraining Epochs:  34%|███▍      | 69/200 [19:36<35:09, 16.11s/it]"
     ]
    },
    {
     "output_type": "stream",
     "name": "stdout",
     "text": [
      "Epoch 69, Loss: 1.0941, Accuracy: 0.9705\n"
     ]
    },
    {
     "output_type": "stream",
     "name": "stderr",
     "text": [
      "\rTraining Epochs:  35%|███▌      | 70/200 [19:51<34:10, 15.77s/it]"
     ]
    },
    {
     "output_type": "stream",
     "name": "stdout",
     "text": [
      "Epoch 70, Loss: 0.8721, Accuracy: 0.9759\n"
     ]
    },
    {
     "output_type": "stream",
     "name": "stderr",
     "text": [
      "\rTraining Epochs:  36%|███▌      | 71/200 [20:09<35:18, 16.42s/it]"
     ]
    },
    {
     "output_type": "stream",
     "name": "stdout",
     "text": [
      "Epoch 71, Loss: 1.3305, Accuracy: 0.9633\n"
     ]
    },
    {
     "output_type": "stream",
     "name": "stderr",
     "text": [
      "\rTraining Epochs:  36%|███▌      | 72/200 [20:23<33:53, 15.89s/it]"
     ]
    },
    {
     "output_type": "stream",
     "name": "stdout",
     "text": [
      "Epoch 72, Loss: 0.9821, Accuracy: 0.9722\n"
     ]
    },
    {
     "output_type": "stream",
     "name": "stderr",
     "text": [
      "\rTraining Epochs:  36%|███▋      | 73/200 [20:39<33:42, 15.93s/it]"
     ]
    },
    {
     "output_type": "stream",
     "name": "stdout",
     "text": [
      "Epoch 73, Loss: 1.4502, Accuracy: 0.9653\n"
     ]
    },
    {
     "output_type": "stream",
     "name": "stderr",
     "text": [
      "\rTraining Epochs:  37%|███▋      | 74/200 [20:54<32:50, 15.64s/it]"
     ]
    },
    {
     "output_type": "stream",
     "name": "stdout",
     "text": [
      "Epoch 74, Loss: 1.0579, Accuracy: 0.9709\n"
     ]
    },
    {
     "output_type": "stream",
     "name": "stderr",
     "text": [
      "\rTraining Epochs:  38%|███▊      | 75/200 [21:10<32:47, 15.74s/it]"
     ]
    },
    {
     "output_type": "stream",
     "name": "stdout",
     "text": [
      "Epoch 75, Loss: 1.0204, Accuracy: 0.9812\n"
     ]
    },
    {
     "output_type": "stream",
     "name": "stderr",
     "text": [
      "\rTraining Epochs:  38%|███▊      | 76/200 [21:26<32:48, 15.87s/it]"
     ]
    },
    {
     "output_type": "stream",
     "name": "stdout",
     "text": [
      "Epoch 76, Loss: 1.4549, Accuracy: 0.9731\n"
     ]
    },
    {
     "output_type": "stream",
     "name": "stderr",
     "text": [
      "\rTraining Epochs:  38%|███▊      | 77/200 [21:41<31:43, 15.47s/it]"
     ]
    },
    {
     "output_type": "stream",
     "name": "stdout",
     "text": [
      "Epoch 77, Loss: 1.1061, Accuracy: 0.9649\n"
     ]
    },
    {
     "output_type": "stream",
     "name": "stderr",
     "text": [
      "\rTraining Epochs:  39%|███▉      | 78/200 [21:55<30:52, 15.19s/it]"
     ]
    },
    {
     "output_type": "stream",
     "name": "stdout",
     "text": [
      "Epoch 78, Loss: 0.9952, Accuracy: 0.9679\n"
     ]
    },
    {
     "output_type": "stream",
     "name": "stderr",
     "text": [
      "\rTraining Epochs:  40%|███▉      | 79/200 [22:11<30:55, 15.34s/it]"
     ]
    },
    {
     "output_type": "stream",
     "name": "stdout",
     "text": [
      "Epoch 79, Loss: 0.9395, Accuracy: 0.9797\n"
     ]
    },
    {
     "output_type": "stream",
     "name": "stderr",
     "text": [
      "\rTraining Epochs:  40%|████      | 80/200 [22:27<31:07, 15.56s/it]"
     ]
    },
    {
     "output_type": "stream",
     "name": "stdout",
     "text": [
      "Epoch 80, Loss: 0.9883, Accuracy: 0.9797\n"
     ]
    },
    {
     "output_type": "stream",
     "name": "stderr",
     "text": [
      "\rTraining Epochs:  40%|████      | 81/200 [22:44<31:33, 15.92s/it]"
     ]
    },
    {
     "output_type": "stream",
     "name": "stdout",
     "text": [
      "Epoch 81, Loss: 0.8600, Accuracy: 0.9812\n"
     ]
    },
    {
     "output_type": "stream",
     "name": "stderr",
     "text": [
      "\rTraining Epochs:  41%|████      | 82/200 [23:00<31:13, 15.88s/it]"
     ]
    },
    {
     "output_type": "stream",
     "name": "stdout",
     "text": [
      "Epoch 82, Loss: 1.0233, Accuracy: 0.9691\n"
     ]
    },
    {
     "output_type": "stream",
     "name": "stderr",
     "text": [
      "\rTraining Epochs:  42%|████▏     | 83/200 [23:17<31:38, 16.23s/it]"
     ]
    },
    {
     "output_type": "stream",
     "name": "stdout",
     "text": [
      "Epoch 83, Loss: 0.9383, Accuracy: 0.9718\n"
     ]
    },
    {
     "output_type": "stream",
     "name": "stderr",
     "text": [
      "\rTraining Epochs:  42%|████▏     | 84/200 [23:32<31:01, 16.05s/it]"
     ]
    },
    {
     "output_type": "stream",
     "name": "stdout",
     "text": [
      "Epoch 84, Loss: 0.7633, Accuracy: 0.9800\n"
     ]
    },
    {
     "output_type": "stream",
     "name": "stderr",
     "text": [
      "\rTraining Epochs:  42%|████▎     | 85/200 [23:48<30:44, 16.04s/it]"
     ]
    },
    {
     "output_type": "stream",
     "name": "stdout",
     "text": [
      "Epoch 85, Loss: 0.7384, Accuracy: 0.9801\n"
     ]
    },
    {
     "output_type": "stream",
     "name": "stderr",
     "text": [
      "\rTraining Epochs:  43%|████▎     | 86/200 [24:04<30:23, 16.00s/it]"
     ]
    },
    {
     "output_type": "stream",
     "name": "stdout",
     "text": [
      "Epoch 86, Loss: 0.8069, Accuracy: 0.9829\n"
     ]
    },
    {
     "output_type": "stream",
     "name": "stderr",
     "text": [
      "\rTraining Epochs:  44%|████▎     | 87/200 [24:20<30:08, 16.00s/it]"
     ]
    },
    {
     "output_type": "stream",
     "name": "stdout",
     "text": [
      "Epoch 87, Loss: 0.7154, Accuracy: 0.9788\n"
     ]
    },
    {
     "output_type": "stream",
     "name": "stderr",
     "text": [
      "\rTraining Epochs:  44%|████▍     | 88/200 [24:36<29:53, 16.01s/it]"
     ]
    },
    {
     "output_type": "stream",
     "name": "stdout",
     "text": [
      "Epoch 88, Loss: 1.1388, Accuracy: 0.9720\n"
     ]
    },
    {
     "output_type": "stream",
     "name": "stderr",
     "text": [
      "\rTraining Epochs:  44%|████▍     | 89/200 [24:51<29:06, 15.74s/it]"
     ]
    },
    {
     "output_type": "stream",
     "name": "stdout",
     "text": [
      "Epoch 89, Loss: 0.9851, Accuracy: 0.9815\n"
     ]
    },
    {
     "output_type": "stream",
     "name": "stderr",
     "text": [
      "\rTraining Epochs:  45%|████▌     | 90/200 [25:08<29:01, 15.83s/it]"
     ]
    },
    {
     "output_type": "stream",
     "name": "stdout",
     "text": [
      "Epoch 90, Loss: 0.9488, Accuracy: 0.9698\n"
     ]
    },
    {
     "output_type": "stream",
     "name": "stderr",
     "text": [
      "\rTraining Epochs:  46%|████▌     | 91/200 [25:23<28:32, 15.71s/it]"
     ]
    },
    {
     "output_type": "stream",
     "name": "stdout",
     "text": [
      "Epoch 91, Loss: 0.7894, Accuracy: 0.9750\n"
     ]
    },
    {
     "output_type": "stream",
     "name": "stderr",
     "text": [
      "\rTraining Epochs:  46%|████▌     | 92/200 [25:39<28:34, 15.88s/it]"
     ]
    },
    {
     "output_type": "stream",
     "name": "stdout",
     "text": [
      "Epoch 92, Loss: 0.6923, Accuracy: 0.9812\n"
     ]
    },
    {
     "output_type": "stream",
     "name": "stderr",
     "text": [
      "\rTraining Epochs:  46%|████▋     | 93/200 [25:54<27:41, 15.53s/it]"
     ]
    },
    {
     "output_type": "stream",
     "name": "stdout",
     "text": [
      "Epoch 93, Loss: 0.8336, Accuracy: 0.9718\n"
     ]
    },
    {
     "output_type": "stream",
     "name": "stderr",
     "text": [
      "\rTraining Epochs:  47%|████▋     | 94/200 [26:09<27:07, 15.35s/it]"
     ]
    },
    {
     "output_type": "stream",
     "name": "stdout",
     "text": [
      "Epoch 94, Loss: 0.6310, Accuracy: 0.9720\n"
     ]
    },
    {
     "output_type": "stream",
     "name": "stderr",
     "text": [
      "\rTraining Epochs:  48%|████▊     | 95/200 [26:25<27:09, 15.52s/it]"
     ]
    },
    {
     "output_type": "stream",
     "name": "stdout",
     "text": [
      "Epoch 95, Loss: 0.3535, Accuracy: 0.9637\n"
     ]
    },
    {
     "output_type": "stream",
     "name": "stderr",
     "text": [
      "\rTraining Epochs:  48%|████▊     | 96/200 [26:39<26:21, 15.20s/it]"
     ]
    },
    {
     "output_type": "stream",
     "name": "stdout",
     "text": [
      "Epoch 96, Loss: 0.7508, Accuracy: 0.9812\n"
     ]
    },
    {
     "output_type": "stream",
     "name": "stderr",
     "text": [
      "\rTraining Epochs:  48%|████▊     | 97/200 [26:57<27:19, 15.91s/it]"
     ]
    },
    {
     "output_type": "stream",
     "name": "stdout",
     "text": [
      "Epoch 97, Loss: 0.6319, Accuracy: 0.9838\n"
     ]
    },
    {
     "output_type": "stream",
     "name": "stderr",
     "text": [
      "\rTraining Epochs:  49%|████▉     | 98/200 [27:13<27:16, 16.04s/it]"
     ]
    },
    {
     "output_type": "stream",
     "name": "stdout",
     "text": [
      "Epoch 98, Loss: 0.9942, Accuracy: 0.9724\n"
     ]
    },
    {
     "output_type": "stream",
     "name": "stderr",
     "text": [
      "\rTraining Epochs:  50%|████▉     | 99/200 [27:30<27:16, 16.20s/it]"
     ]
    },
    {
     "output_type": "stream",
     "name": "stdout",
     "text": [
      "Epoch 99, Loss: 0.6565, Accuracy: 0.9832\n"
     ]
    },
    {
     "output_type": "stream",
     "name": "stderr",
     "text": [
      "\rTraining Epochs:  50%|█████     | 100/200 [27:46<26:50, 16.11s/it]"
     ]
    },
    {
     "output_type": "stream",
     "name": "stdout",
     "text": [
      "Epoch 100, Loss: 0.5667, Accuracy: 0.9870\n"
     ]
    },
    {
     "output_type": "stream",
     "name": "stderr",
     "text": [
      "\rTraining Epochs:  50%|█████     | 101/200 [28:04<27:32, 16.69s/it]"
     ]
    },
    {
     "output_type": "stream",
     "name": "stdout",
     "text": [
      "Epoch 101, Loss: 0.7981, Accuracy: 0.9759\n"
     ]
    },
    {
     "output_type": "stream",
     "name": "stderr",
     "text": [
      "\rTraining Epochs:  51%|█████     | 102/200 [28:19<26:30, 16.23s/it]"
     ]
    },
    {
     "output_type": "stream",
     "name": "stdout",
     "text": [
      "Epoch 102, Loss: 0.8412, Accuracy: 0.9754\n"
     ]
    },
    {
     "output_type": "stream",
     "name": "stderr",
     "text": [
      "\rTraining Epochs:  52%|█████▏    | 103/200 [28:34<25:31, 15.79s/it]"
     ]
    },
    {
     "output_type": "stream",
     "name": "stdout",
     "text": [
      "Epoch 103, Loss: 0.5834, Accuracy: 0.9839\n"
     ]
    },
    {
     "output_type": "stream",
     "name": "stderr",
     "text": [
      "\rTraining Epochs:  52%|█████▏    | 104/200 [28:51<26:11, 16.37s/it]"
     ]
    },
    {
     "output_type": "stream",
     "name": "stdout",
     "text": [
      "Epoch 104, Loss: 1.2672, Accuracy: 0.9754\n"
     ]
    },
    {
     "output_type": "stream",
     "name": "stderr",
     "text": [
      "\rTraining Epochs:  52%|█████▎    | 105/200 [29:07<25:48, 16.30s/it]"
     ]
    },
    {
     "output_type": "stream",
     "name": "stdout",
     "text": [
      "Epoch 105, Loss: 0.5414, Accuracy: 0.9865\n"
     ]
    },
    {
     "output_type": "stream",
     "name": "stderr",
     "text": [
      "\rTraining Epochs:  53%|█████▎    | 106/200 [29:24<25:29, 16.27s/it]"
     ]
    },
    {
     "output_type": "stream",
     "name": "stdout",
     "text": [
      "Epoch 106, Loss: 0.5133, Accuracy: 0.9852\n"
     ]
    },
    {
     "output_type": "stream",
     "name": "stderr",
     "text": [
      "\rTraining Epochs:  54%|█████▎    | 107/200 [29:40<25:17, 16.32s/it]"
     ]
    },
    {
     "output_type": "stream",
     "name": "stdout",
     "text": [
      "Epoch 107, Loss: 0.5994, Accuracy: 0.9826\n"
     ]
    },
    {
     "output_type": "stream",
     "name": "stderr",
     "text": [
      "\rTraining Epochs:  54%|█████▍    | 108/200 [29:56<24:58, 16.28s/it]"
     ]
    },
    {
     "output_type": "stream",
     "name": "stdout",
     "text": [
      "Epoch 108, Loss: 0.5900, Accuracy: 0.9845\n"
     ]
    },
    {
     "output_type": "stream",
     "name": "stderr",
     "text": [
      "\rTraining Epochs:  55%|█████▍    | 109/200 [30:14<25:19, 16.69s/it]"
     ]
    },
    {
     "output_type": "stream",
     "name": "stdout",
     "text": [
      "Epoch 109, Loss: 0.8455, Accuracy: 0.9757\n"
     ]
    },
    {
     "output_type": "stream",
     "name": "stderr",
     "text": [
      "\rTraining Epochs:  55%|█████▌    | 110/200 [30:31<25:01, 16.68s/it]"
     ]
    },
    {
     "output_type": "stream",
     "name": "stdout",
     "text": [
      "Epoch 110, Loss: 0.5722, Accuracy: 0.9841\n"
     ]
    },
    {
     "output_type": "stream",
     "name": "stderr",
     "text": [
      "\rTraining Epochs:  56%|█████▌    | 111/200 [30:47<24:50, 16.75s/it]"
     ]
    },
    {
     "output_type": "stream",
     "name": "stdout",
     "text": [
      "Epoch 111, Loss: 0.6617, Accuracy: 0.9790\n"
     ]
    },
    {
     "output_type": "stream",
     "name": "stderr",
     "text": [
      "\rTraining Epochs:  56%|█████▌    | 112/200 [31:03<24:10, 16.48s/it]"
     ]
    },
    {
     "output_type": "stream",
     "name": "stdout",
     "text": [
      "Epoch 112, Loss: 0.7303, Accuracy: 0.9754\n"
     ]
    },
    {
     "output_type": "stream",
     "name": "stderr",
     "text": [
      "\rTraining Epochs:  56%|█████▋    | 113/200 [31:19<23:34, 16.26s/it]"
     ]
    },
    {
     "output_type": "stream",
     "name": "stdout",
     "text": [
      "Epoch 113, Loss: 0.8074, Accuracy: 0.9816\n"
     ]
    },
    {
     "output_type": "stream",
     "name": "stderr",
     "text": [
      "\rTraining Epochs:  57%|█████▋    | 114/200 [31:36<23:44, 16.56s/it]"
     ]
    },
    {
     "output_type": "stream",
     "name": "stdout",
     "text": [
      "Epoch 114, Loss: 0.9342, Accuracy: 0.9808\n"
     ]
    },
    {
     "output_type": "stream",
     "name": "stderr",
     "text": [
      "\rTraining Epochs:  57%|█████▊    | 115/200 [31:53<23:37, 16.68s/it]"
     ]
    },
    {
     "output_type": "stream",
     "name": "stdout",
     "text": [
      "Epoch 115, Loss: 0.6775, Accuracy: 0.9766\n"
     ]
    },
    {
     "output_type": "stream",
     "name": "stderr",
     "text": [
      "\rTraining Epochs:  58%|█████▊    | 116/200 [32:10<23:09, 16.54s/it]"
     ]
    },
    {
     "output_type": "stream",
     "name": "stdout",
     "text": [
      "Epoch 116, Loss: 0.7686, Accuracy: 0.9802\n"
     ]
    },
    {
     "output_type": "stream",
     "name": "stderr",
     "text": [
      "\rTraining Epochs:  58%|█████▊    | 117/200 [32:27<23:12, 16.77s/it]"
     ]
    },
    {
     "output_type": "stream",
     "name": "stdout",
     "text": [
      "Epoch 117, Loss: 0.7515, Accuracy: 0.9909\n"
     ]
    },
    {
     "output_type": "stream",
     "name": "stderr",
     "text": [
      "\rTraining Epochs:  59%|█████▉    | 118/200 [32:43<22:51, 16.73s/it]"
     ]
    },
    {
     "output_type": "stream",
     "name": "stdout",
     "text": [
      "Epoch 118, Loss: 0.6618, Accuracy: 0.9814\n"
     ]
    },
    {
     "output_type": "stream",
     "name": "stderr",
     "text": [
      "\rTraining Epochs:  60%|█████▉    | 119/200 [33:00<22:22, 16.58s/it]"
     ]
    },
    {
     "output_type": "stream",
     "name": "stdout",
     "text": [
      "Epoch 119, Loss: 0.5450, Accuracy: 0.9856\n"
     ]
    },
    {
     "output_type": "stream",
     "name": "stderr",
     "text": [
      "\rTraining Epochs:  60%|██████    | 120/200 [33:16<21:50, 16.38s/it]"
     ]
    },
    {
     "output_type": "stream",
     "name": "stdout",
     "text": [
      "Epoch 120, Loss: 0.5404, Accuracy: 0.9818\n"
     ]
    },
    {
     "output_type": "stream",
     "name": "stderr",
     "text": [
      "\rTraining Epochs:  60%|██████    | 121/200 [33:32<21:26, 16.28s/it]"
     ]
    },
    {
     "output_type": "stream",
     "name": "stdout",
     "text": [
      "Epoch 121, Loss: 0.6983, Accuracy: 0.9843\n"
     ]
    },
    {
     "output_type": "stream",
     "name": "stderr",
     "text": [
      "\rTraining Epochs:  61%|██████    | 122/200 [33:48<21:06, 16.24s/it]"
     ]
    },
    {
     "output_type": "stream",
     "name": "stdout",
     "text": [
      "Epoch 122, Loss: 0.6130, Accuracy: 0.9878\n"
     ]
    },
    {
     "output_type": "stream",
     "name": "stderr",
     "text": [
      "\rTraining Epochs:  62%|██████▏   | 123/200 [34:03<20:37, 16.08s/it]"
     ]
    },
    {
     "output_type": "stream",
     "name": "stdout",
     "text": [
      "Epoch 123, Loss: 0.4669, Accuracy: 0.9806\n"
     ]
    },
    {
     "output_type": "stream",
     "name": "stderr",
     "text": [
      "\rTraining Epochs:  62%|██████▏   | 124/200 [34:19<20:19, 16.05s/it]"
     ]
    },
    {
     "output_type": "stream",
     "name": "stdout",
     "text": [
      "Epoch 124, Loss: 1.4482, Accuracy: 0.9619\n"
     ]
    },
    {
     "output_type": "stream",
     "name": "stderr",
     "text": [
      "\rTraining Epochs:  62%|██████▎   | 125/200 [34:36<20:04, 16.07s/it]"
     ]
    },
    {
     "output_type": "stream",
     "name": "stdout",
     "text": [
      "Epoch 125, Loss: 0.5814, Accuracy: 0.9849\n"
     ]
    },
    {
     "output_type": "stream",
     "name": "stderr",
     "text": [
      "\rTraining Epochs:  63%|██████▎   | 126/200 [34:52<20:01, 16.24s/it]"
     ]
    },
    {
     "output_type": "stream",
     "name": "stdout",
     "text": [
      "Epoch 126, Loss: 0.6708, Accuracy: 0.9802\n"
     ]
    },
    {
     "output_type": "stream",
     "name": "stderr",
     "text": [
      "\rTraining Epochs:  64%|██████▎   | 127/200 [35:09<20:00, 16.44s/it]"
     ]
    },
    {
     "output_type": "stream",
     "name": "stdout",
     "text": [
      "Epoch 127, Loss: 0.6693, Accuracy: 0.9848\n"
     ]
    },
    {
     "output_type": "stream",
     "name": "stderr",
     "text": [
      "\rTraining Epochs:  64%|██████▍   | 128/200 [35:25<19:22, 16.14s/it]"
     ]
    },
    {
     "output_type": "stream",
     "name": "stdout",
     "text": [
      "Epoch 128, Loss: 0.5835, Accuracy: 0.9775\n"
     ]
    },
    {
     "output_type": "stream",
     "name": "stderr",
     "text": [
      "\rTraining Epochs:  64%|██████▍   | 129/200 [35:42<19:24, 16.40s/it]"
     ]
    },
    {
     "output_type": "stream",
     "name": "stdout",
     "text": [
      "Epoch 129, Loss: 0.4911, Accuracy: 0.9881\n"
     ]
    },
    {
     "output_type": "stream",
     "name": "stderr",
     "text": [
      "\rTraining Epochs:  65%|██████▌   | 130/200 [35:57<18:51, 16.16s/it]"
     ]
    },
    {
     "output_type": "stream",
     "name": "stdout",
     "text": [
      "Epoch 130, Loss: 0.5577, Accuracy: 0.9839\n"
     ]
    },
    {
     "output_type": "stream",
     "name": "stderr",
     "text": [
      "\rTraining Epochs:  66%|██████▌   | 131/200 [36:14<18:39, 16.22s/it]"
     ]
    },
    {
     "output_type": "stream",
     "name": "stdout",
     "text": [
      "Epoch 131, Loss: 0.6461, Accuracy: 0.9837\n"
     ]
    },
    {
     "output_type": "stream",
     "name": "stderr",
     "text": [
      "\rTraining Epochs:  66%|██████▌   | 132/200 [36:29<18:05, 15.96s/it]"
     ]
    },
    {
     "output_type": "stream",
     "name": "stdout",
     "text": [
      "Epoch 132, Loss: 0.5086, Accuracy: 0.9839\n"
     ]
    },
    {
     "output_type": "stream",
     "name": "stderr",
     "text": [
      "\rTraining Epochs:  66%|██████▋   | 133/200 [36:44<17:29, 15.67s/it]"
     ]
    },
    {
     "output_type": "stream",
     "name": "stdout",
     "text": [
      "Epoch 133, Loss: 0.5168, Accuracy: 0.9849\n"
     ]
    },
    {
     "output_type": "stream",
     "name": "stderr",
     "text": [
      "\rTraining Epochs:  67%|██████▋   | 134/200 [37:01<17:36, 16.01s/it]"
     ]
    },
    {
     "output_type": "stream",
     "name": "stdout",
     "text": [
      "Epoch 134, Loss: 0.8253, Accuracy: 0.9903\n"
     ]
    },
    {
     "output_type": "stream",
     "name": "stderr",
     "text": [
      "\rTraining Epochs:  68%|██████▊   | 135/200 [37:17<17:17, 15.97s/it]"
     ]
    },
    {
     "output_type": "stream",
     "name": "stdout",
     "text": [
      "Epoch 135, Loss: 0.5241, Accuracy: 0.9876\n"
     ]
    },
    {
     "output_type": "stream",
     "name": "stderr",
     "text": [
      "\rTraining Epochs:  68%|██████▊   | 136/200 [37:32<16:56, 15.88s/it]"
     ]
    },
    {
     "output_type": "stream",
     "name": "stdout",
     "text": [
      "Epoch 136, Loss: 0.4591, Accuracy: 0.9871\n"
     ]
    },
    {
     "output_type": "stream",
     "name": "stderr",
     "text": [
      "\rTraining Epochs:  68%|██████▊   | 137/200 [37:48<16:43, 15.93s/it]"
     ]
    },
    {
     "output_type": "stream",
     "name": "stdout",
     "text": [
      "Epoch 137, Loss: 0.5405, Accuracy: 0.9862\n"
     ]
    },
    {
     "output_type": "stream",
     "name": "stderr",
     "text": [
      "\rTraining Epochs:  69%|██████▉   | 138/200 [38:03<16:14, 15.71s/it]"
     ]
    },
    {
     "output_type": "stream",
     "name": "stdout",
     "text": [
      "Epoch 138, Loss: 0.4603, Accuracy: 0.9865\n"
     ]
    },
    {
     "output_type": "stream",
     "name": "stderr",
     "text": [
      "\rTraining Epochs:  70%|██████▉   | 139/200 [38:20<16:16, 16.01s/it]"
     ]
    },
    {
     "output_type": "stream",
     "name": "stdout",
     "text": [
      "Epoch 139, Loss: 1.1141, Accuracy: 0.9880\n"
     ]
    },
    {
     "output_type": "stream",
     "name": "stderr",
     "text": [
      "\rTraining Epochs:  70%|███████   | 140/200 [38:35<15:36, 15.60s/it]"
     ]
    },
    {
     "output_type": "stream",
     "name": "stdout",
     "text": [
      "Epoch 140, Loss: 0.4143, Accuracy: 0.9863\n"
     ]
    },
    {
     "output_type": "stream",
     "name": "stderr",
     "text": [
      "\rTraining Epochs:  70%|███████   | 141/200 [38:52<15:42, 15.97s/it]"
     ]
    },
    {
     "output_type": "stream",
     "name": "stdout",
     "text": [
      "Epoch 141, Loss: 0.4784, Accuracy: 0.9878\n"
     ]
    },
    {
     "output_type": "stream",
     "name": "stderr",
     "text": [
      "\rTraining Epochs:  71%|███████   | 142/200 [39:08<15:25, 15.95s/it]"
     ]
    },
    {
     "output_type": "stream",
     "name": "stdout",
     "text": [
      "Epoch 142, Loss: 0.5315, Accuracy: 0.9811\n"
     ]
    },
    {
     "output_type": "stream",
     "name": "stderr",
     "text": [
      "\rTraining Epochs:  72%|███████▏  | 143/200 [39:23<14:52, 15.65s/it]"
     ]
    },
    {
     "output_type": "stream",
     "name": "stdout",
     "text": [
      "Epoch 143, Loss: 0.3878, Accuracy: 0.9879\n"
     ]
    },
    {
     "output_type": "stream",
     "name": "stderr",
     "text": [
      "\rTraining Epochs:  72%|███████▏  | 144/200 [39:38<14:29, 15.53s/it]"
     ]
    },
    {
     "output_type": "stream",
     "name": "stdout",
     "text": [
      "Epoch 144, Loss: 0.4766, Accuracy: 0.9874\n"
     ]
    },
    {
     "output_type": "stream",
     "name": "stderr",
     "text": [
      "\rTraining Epochs:  72%|███████▎  | 145/200 [39:54<14:31, 15.85s/it]"
     ]
    },
    {
     "output_type": "stream",
     "name": "stdout",
     "text": [
      "Epoch 145, Loss: 0.5542, Accuracy: 0.9869\n"
     ]
    },
    {
     "output_type": "stream",
     "name": "stderr",
     "text": [
      "\rTraining Epochs:  73%|███████▎  | 146/200 [40:09<14:02, 15.59s/it]"
     ]
    },
    {
     "output_type": "stream",
     "name": "stdout",
     "text": [
      "Epoch 146, Loss: 0.3945, Accuracy: 0.9875\n"
     ]
    },
    {
     "output_type": "stream",
     "name": "stderr",
     "text": [
      "\rTraining Epochs:  74%|███████▎  | 147/200 [40:26<14:00, 15.86s/it]"
     ]
    },
    {
     "output_type": "stream",
     "name": "stdout",
     "text": [
      "Epoch 147, Loss: 0.3631, Accuracy: 0.9874\n"
     ]
    },
    {
     "output_type": "stream",
     "name": "stderr",
     "text": [
      "\rTraining Epochs:  74%|███████▍  | 148/200 [40:41<13:34, 15.67s/it]"
     ]
    },
    {
     "output_type": "stream",
     "name": "stdout",
     "text": [
      "Epoch 148, Loss: 0.4466, Accuracy: 0.9858\n"
     ]
    },
    {
     "output_type": "stream",
     "name": "stderr",
     "text": [
      "\rTraining Epochs:  74%|███████▍  | 149/200 [40:57<13:20, 15.69s/it]"
     ]
    },
    {
     "output_type": "stream",
     "name": "stdout",
     "text": [
      "Epoch 149, Loss: 0.4471, Accuracy: 0.9877\n"
     ]
    },
    {
     "output_type": "stream",
     "name": "stderr",
     "text": [
      "\rTraining Epochs:  75%|███████▌  | 150/200 [41:14<13:21, 16.03s/it]"
     ]
    },
    {
     "output_type": "stream",
     "name": "stdout",
     "text": [
      "Epoch 150, Loss: 0.6278, Accuracy: 0.9891\n"
     ]
    },
    {
     "output_type": "stream",
     "name": "stderr",
     "text": [
      "\rTraining Epochs:  76%|███████▌  | 151/200 [41:29<12:59, 15.92s/it]"
     ]
    },
    {
     "output_type": "stream",
     "name": "stdout",
     "text": [
      "Epoch 151, Loss: 0.4693, Accuracy: 0.9871\n"
     ]
    },
    {
     "output_type": "stream",
     "name": "stderr",
     "text": [
      "\rTraining Epochs:  76%|███████▌  | 152/200 [41:46<13:00, 16.27s/it]"
     ]
    },
    {
     "output_type": "stream",
     "name": "stdout",
     "text": [
      "Epoch 152, Loss: 0.4093, Accuracy: 0.9862\n"
     ]
    },
    {
     "output_type": "stream",
     "name": "stderr",
     "text": [
      "\rTraining Epochs:  76%|███████▋  | 153/200 [42:04<12:59, 16.59s/it]"
     ]
    },
    {
     "output_type": "stream",
     "name": "stdout",
     "text": [
      "Epoch 153, Loss: 0.7076, Accuracy: 0.9907\n"
     ]
    },
    {
     "output_type": "stream",
     "name": "stderr",
     "text": [
      "\rTraining Epochs:  77%|███████▋  | 154/200 [42:19<12:21, 16.11s/it]"
     ]
    },
    {
     "output_type": "stream",
     "name": "stdout",
     "text": [
      "Epoch 154, Loss: 0.3889, Accuracy: 0.9877\n"
     ]
    },
    {
     "output_type": "stream",
     "name": "stderr",
     "text": [
      "\rTraining Epochs:  78%|███████▊  | 155/200 [42:35<12:05, 16.13s/it]"
     ]
    },
    {
     "output_type": "stream",
     "name": "stdout",
     "text": [
      "Epoch 155, Loss: 0.3460, Accuracy: 0.9885\n"
     ]
    },
    {
     "output_type": "stream",
     "name": "stderr",
     "text": [
      "\rTraining Epochs:  78%|███████▊  | 156/200 [42:52<12:04, 16.47s/it]"
     ]
    },
    {
     "output_type": "stream",
     "name": "stdout",
     "text": [
      "Epoch 156, Loss: 0.7039, Accuracy: 0.9860\n"
     ]
    },
    {
     "output_type": "stream",
     "name": "stderr",
     "text": [
      "\rTraining Epochs:  78%|███████▊  | 157/200 [43:08<11:44, 16.39s/it]"
     ]
    },
    {
     "output_type": "stream",
     "name": "stdout",
     "text": [
      "Epoch 157, Loss: 0.4772, Accuracy: 0.9854\n"
     ]
    },
    {
     "output_type": "stream",
     "name": "stderr",
     "text": [
      "\rTraining Epochs:  79%|███████▉  | 158/200 [43:24<11:16, 16.11s/it]"
     ]
    },
    {
     "output_type": "stream",
     "name": "stdout",
     "text": [
      "Epoch 158, Loss: 0.3845, Accuracy: 0.9866\n"
     ]
    },
    {
     "output_type": "stream",
     "name": "stderr",
     "text": [
      "\rTraining Epochs:  80%|███████▉  | 159/200 [43:40<10:56, 16.02s/it]"
     ]
    },
    {
     "output_type": "stream",
     "name": "stdout",
     "text": [
      "Epoch 159, Loss: 0.4225, Accuracy: 0.9878\n"
     ]
    },
    {
     "output_type": "stream",
     "name": "stderr",
     "text": [
      "\rTraining Epochs:  80%|████████  | 160/200 [43:55<10:37, 15.94s/it]"
     ]
    },
    {
     "output_type": "stream",
     "name": "stdout",
     "text": [
      "Epoch 160, Loss: 0.4722, Accuracy: 0.9891\n"
     ]
    },
    {
     "output_type": "stream",
     "name": "stderr",
     "text": [
      "\rTraining Epochs:  80%|████████  | 161/200 [44:11<10:19, 15.88s/it]"
     ]
    },
    {
     "output_type": "stream",
     "name": "stdout",
     "text": [
      "Epoch 161, Loss: 0.3932, Accuracy: 0.9876\n"
     ]
    },
    {
     "output_type": "stream",
     "name": "stderr",
     "text": [
      "\rTraining Epochs:  81%|████████  | 162/200 [44:29<10:21, 16.37s/it]"
     ]
    },
    {
     "output_type": "stream",
     "name": "stdout",
     "text": [
      "Epoch 162, Loss: 0.4750, Accuracy: 0.9881\n"
     ]
    },
    {
     "output_type": "stream",
     "name": "stderr",
     "text": [
      "\rTraining Epochs:  82%|████████▏ | 163/200 [44:45<10:02, 16.28s/it]"
     ]
    },
    {
     "output_type": "stream",
     "name": "stdout",
     "text": [
      "Epoch 163, Loss: 0.5158, Accuracy: 0.9916\n"
     ]
    },
    {
     "output_type": "stream",
     "name": "stderr",
     "text": [
      "\rTraining Epochs:  82%|████████▏ | 164/200 [45:01<09:49, 16.39s/it]"
     ]
    },
    {
     "output_type": "stream",
     "name": "stdout",
     "text": [
      "Epoch 164, Loss: 0.4926, Accuracy: 0.9859\n"
     ]
    },
    {
     "output_type": "stream",
     "name": "stderr",
     "text": [
      "\rTraining Epochs:  82%|████████▎ | 165/200 [45:18<09:31, 16.34s/it]"
     ]
    },
    {
     "output_type": "stream",
     "name": "stdout",
     "text": [
      "Epoch 165, Loss: 0.4457, Accuracy: 0.9846\n"
     ]
    },
    {
     "output_type": "stream",
     "name": "stderr",
     "text": [
      "\rTraining Epochs:  83%|████████▎ | 166/200 [45:33<09:03, 15.98s/it]"
     ]
    },
    {
     "output_type": "stream",
     "name": "stdout",
     "text": [
      "Epoch 166, Loss: 0.3531, Accuracy: 0.9893\n"
     ]
    },
    {
     "output_type": "stream",
     "name": "stderr",
     "text": [
      "\rTraining Epochs:  84%|████████▎ | 167/200 [45:49<08:52, 16.13s/it]"
     ]
    },
    {
     "output_type": "stream",
     "name": "stdout",
     "text": [
      "Epoch 167, Loss: 0.9061, Accuracy: 0.9876\n"
     ]
    },
    {
     "output_type": "stream",
     "name": "stderr",
     "text": [
      "\rTraining Epochs:  84%|████████▍ | 168/200 [46:04<08:24, 15.77s/it]"
     ]
    },
    {
     "output_type": "stream",
     "name": "stdout",
     "text": [
      "Epoch 168, Loss: 0.3498, Accuracy: 0.9896\n"
     ]
    },
    {
     "output_type": "stream",
     "name": "stderr",
     "text": [
      "\rTraining Epochs:  84%|████████▍ | 169/200 [46:20<08:09, 15.78s/it]"
     ]
    },
    {
     "output_type": "stream",
     "name": "stdout",
     "text": [
      "Epoch 169, Loss: 0.4438, Accuracy: 0.9853\n"
     ]
    },
    {
     "output_type": "stream",
     "name": "stderr",
     "text": [
      "\rTraining Epochs:  85%|████████▌ | 170/200 [46:37<08:07, 16.26s/it]"
     ]
    },
    {
     "output_type": "stream",
     "name": "stdout",
     "text": [
      "Epoch 170, Loss: 0.4337, Accuracy: 0.9897\n"
     ]
    },
    {
     "output_type": "stream",
     "name": "stderr",
     "text": [
      "\rTraining Epochs:  86%|████████▌ | 171/200 [46:54<07:51, 16.25s/it]"
     ]
    },
    {
     "output_type": "stream",
     "name": "stdout",
     "text": [
      "Epoch 171, Loss: 0.4562, Accuracy: 0.9917\n"
     ]
    },
    {
     "output_type": "stream",
     "name": "stderr",
     "text": [
      "\rTraining Epochs:  86%|████████▌ | 172/200 [47:09<07:24, 15.89s/it]"
     ]
    },
    {
     "output_type": "stream",
     "name": "stdout",
     "text": [
      "Epoch 172, Loss: 0.4639, Accuracy: 0.9799\n"
     ]
    },
    {
     "output_type": "stream",
     "name": "stderr",
     "text": [
      "\rTraining Epochs:  86%|████████▋ | 173/200 [47:25<07:09, 15.93s/it]"
     ]
    },
    {
     "output_type": "stream",
     "name": "stdout",
     "text": [
      "Epoch 173, Loss: 0.3847, Accuracy: 0.9858\n"
     ]
    },
    {
     "output_type": "stream",
     "name": "stderr",
     "text": [
      "\rTraining Epochs:  87%|████████▋ | 174/200 [47:40<06:46, 15.64s/it]"
     ]
    },
    {
     "output_type": "stream",
     "name": "stdout",
     "text": [
      "Epoch 174, Loss: 0.3742, Accuracy: 0.9879\n"
     ]
    },
    {
     "output_type": "stream",
     "name": "stderr",
     "text": [
      "\rTraining Epochs:  88%|████████▊ | 175/200 [47:56<06:37, 15.90s/it]"
     ]
    },
    {
     "output_type": "stream",
     "name": "stdout",
     "text": [
      "Epoch 175, Loss: 0.3839, Accuracy: 0.9913\n"
     ]
    },
    {
     "output_type": "stream",
     "name": "stderr",
     "text": [
      "\rTraining Epochs:  88%|████████▊ | 176/200 [48:11<06:16, 15.67s/it]"
     ]
    },
    {
     "output_type": "stream",
     "name": "stdout",
     "text": [
      "Epoch 176, Loss: 0.4234, Accuracy: 0.9822\n"
     ]
    },
    {
     "output_type": "stream",
     "name": "stderr",
     "text": [
      "\rTraining Epochs:  88%|████████▊ | 177/200 [48:27<06:02, 15.78s/it]"
     ]
    },
    {
     "output_type": "stream",
     "name": "stdout",
     "text": [
      "Epoch 177, Loss: 0.3611, Accuracy: 0.9843\n"
     ]
    },
    {
     "output_type": "stream",
     "name": "stderr",
     "text": [
      "\rTraining Epochs:  89%|████████▉ | 178/200 [48:44<05:53, 16.09s/it]"
     ]
    },
    {
     "output_type": "stream",
     "name": "stdout",
     "text": [
      "Epoch 178, Loss: 0.3893, Accuracy: 0.9891\n"
     ]
    },
    {
     "output_type": "stream",
     "name": "stderr",
     "text": [
      "\rTraining Epochs:  90%|████████▉ | 179/200 [49:00<05:39, 16.15s/it]"
     ]
    },
    {
     "output_type": "stream",
     "name": "stdout",
     "text": [
      "Epoch 179, Loss: 0.4405, Accuracy: 0.9872\n"
     ]
    },
    {
     "output_type": "stream",
     "name": "stderr",
     "text": [
      "\rTraining Epochs:  90%|█████████ | 180/200 [49:18<05:30, 16.54s/it]"
     ]
    },
    {
     "output_type": "stream",
     "name": "stdout",
     "text": [
      "Epoch 180, Loss: 0.4716, Accuracy: 0.9864\n"
     ]
    },
    {
     "output_type": "stream",
     "name": "stderr",
     "text": [
      "\rTraining Epochs:  90%|█████████ | 181/200 [49:33<05:07, 16.17s/it]"
     ]
    },
    {
     "output_type": "stream",
     "name": "stdout",
     "text": [
      "Epoch 181, Loss: 0.7377, Accuracy: 0.9706\n"
     ]
    },
    {
     "output_type": "stream",
     "name": "stderr",
     "text": [
      "\rTraining Epochs:  91%|█████████ | 182/200 [49:49<04:48, 16.03s/it]"
     ]
    },
    {
     "output_type": "stream",
     "name": "stdout",
     "text": [
      "Epoch 182, Loss: 0.4497, Accuracy: 0.9786\n"
     ]
    },
    {
     "output_type": "stream",
     "name": "stderr",
     "text": [
      "\rTraining Epochs:  92%|█████████▏| 183/200 [50:07<04:41, 16.56s/it]"
     ]
    },
    {
     "output_type": "stream",
     "name": "stdout",
     "text": [
      "Epoch 183, Loss: 0.6445, Accuracy: 0.9887\n"
     ]
    },
    {
     "output_type": "stream",
     "name": "stderr",
     "text": [
      "\rTraining Epochs:  92%|█████████▏| 184/200 [50:23<04:22, 16.39s/it]"
     ]
    },
    {
     "output_type": "stream",
     "name": "stdout",
     "text": [
      "Epoch 184, Loss: 0.5077, Accuracy: 0.9870\n"
     ]
    },
    {
     "output_type": "stream",
     "name": "stderr",
     "text": [
      "\rTraining Epochs:  92%|█████████▎| 185/200 [50:39<04:06, 16.40s/it]"
     ]
    },
    {
     "output_type": "stream",
     "name": "stdout",
     "text": [
      "Epoch 185, Loss: 0.4797, Accuracy: 0.9872\n"
     ]
    },
    {
     "output_type": "stream",
     "name": "stderr",
     "text": [
      "\rTraining Epochs:  93%|█████████▎| 186/200 [50:54<03:43, 15.96s/it]"
     ]
    },
    {
     "output_type": "stream",
     "name": "stdout",
     "text": [
      "Epoch 186, Loss: 0.4617, Accuracy: 0.9774\n"
     ]
    },
    {
     "output_type": "stream",
     "name": "stderr",
     "text": [
      "\rTraining Epochs:  94%|█████████▎| 187/200 [51:10<03:29, 16.10s/it]"
     ]
    },
    {
     "output_type": "stream",
     "name": "stdout",
     "text": [
      "Epoch 187, Loss: 0.5438, Accuracy: 0.9747\n"
     ]
    },
    {
     "output_type": "stream",
     "name": "stderr",
     "text": [
      "\rTraining Epochs:  94%|█████████▍| 188/200 [51:28<03:19, 16.59s/it]"
     ]
    },
    {
     "output_type": "stream",
     "name": "stdout",
     "text": [
      "Epoch 188, Loss: 0.6347, Accuracy: 0.9780\n"
     ]
    },
    {
     "output_type": "stream",
     "name": "stderr",
     "text": [
      "\rTraining Epochs:  94%|█████████▍| 189/200 [51:43<02:58, 16.19s/it]"
     ]
    },
    {
     "output_type": "stream",
     "name": "stdout",
     "text": [
      "Epoch 189, Loss: 0.4081, Accuracy: 0.9810\n"
     ]
    },
    {
     "output_type": "stream",
     "name": "stderr",
     "text": [
      "\rTraining Epochs:  95%|█████████▌| 190/200 [52:00<02:43, 16.33s/it]"
     ]
    },
    {
     "output_type": "stream",
     "name": "stdout",
     "text": [
      "Epoch 190, Loss: 0.3629, Accuracy: 0.9828\n"
     ]
    },
    {
     "output_type": "stream",
     "name": "stderr",
     "text": [
      "\rTraining Epochs:  96%|█████████▌| 191/200 [52:15<02:22, 15.82s/it]"
     ]
    },
    {
     "output_type": "stream",
     "name": "stdout",
     "text": [
      "Epoch 191, Loss: 0.5284, Accuracy: 0.9801\n"
     ]
    },
    {
     "output_type": "stream",
     "name": "stderr",
     "text": [
      "\rTraining Epochs:  96%|█████████▌| 192/200 [52:30<02:04, 15.55s/it]"
     ]
    },
    {
     "output_type": "stream",
     "name": "stdout",
     "text": [
      "Epoch 192, Loss: 0.5809, Accuracy: 0.9771\n"
     ]
    },
    {
     "output_type": "stream",
     "name": "stderr",
     "text": [
      "\rTraining Epochs:  96%|█████████▋| 193/200 [52:47<01:52, 16.08s/it]"
     ]
    },
    {
     "output_type": "stream",
     "name": "stdout",
     "text": [
      "Epoch 193, Loss: 0.4169, Accuracy: 0.9831\n"
     ]
    },
    {
     "output_type": "stream",
     "name": "stderr",
     "text": [
      "\rTraining Epochs:  97%|█████████▋| 194/200 [53:03<01:36, 16.10s/it]"
     ]
    },
    {
     "output_type": "stream",
     "name": "stdout",
     "text": [
      "Epoch 194, Loss: 0.4505, Accuracy: 0.9903\n"
     ]
    },
    {
     "output_type": "stream",
     "name": "stderr",
     "text": [
      "\rTraining Epochs:  98%|█████████▊| 195/200 [53:17<01:17, 15.41s/it]"
     ]
    },
    {
     "output_type": "stream",
     "name": "stdout",
     "text": [
      "Epoch 195, Loss: 0.3327, Accuracy: 0.9836\n"
     ]
    },
    {
     "output_type": "stream",
     "name": "stderr",
     "text": [
      "\rTraining Epochs:  98%|█████████▊| 196/200 [53:31<01:00, 15.18s/it]"
     ]
    },
    {
     "output_type": "stream",
     "name": "stdout",
     "text": [
      "Epoch 196, Loss: 0.4840, Accuracy: 0.9765\n"
     ]
    },
    {
     "output_type": "stream",
     "name": "stderr",
     "text": [
      "\rTraining Epochs:  98%|█████████▊| 197/200 [53:47<00:45, 15.32s/it]"
     ]
    },
    {
     "output_type": "stream",
     "name": "stdout",
     "text": [
      "Epoch 197, Loss: 0.3768, Accuracy: 0.9867\n"
     ]
    },
    {
     "output_type": "stream",
     "name": "stderr",
     "text": [
      "\rTraining Epochs:  99%|█████████▉| 198/200 [54:03<00:31, 15.59s/it]"
     ]
    },
    {
     "output_type": "stream",
     "name": "stdout",
     "text": [
      "Epoch 198, Loss: 0.4579, Accuracy: 0.9803\n"
     ]
    },
    {
     "output_type": "stream",
     "name": "stderr",
     "text": [
      "\rTraining Epochs: 100%|█████████▉| 199/200 [54:20<00:15, 15.96s/it]"
     ]
    },
    {
     "output_type": "stream",
     "name": "stdout",
     "text": [
      "Epoch 199, Loss: 0.4112, Accuracy: 0.9851\n"
     ]
    },
    {
     "output_type": "stream",
     "name": "stderr",
     "text": [
      "Training Epochs: 100%|██████████| 200/200 [54:36<00:00, 16.38s/it]"
     ]
    },
    {
     "output_type": "stream",
     "name": "stdout",
     "text": [
      "Epoch 200, Loss: 0.4393, Accuracy: 0.9762\n"
     ]
    },
    {
     "output_type": "stream",
     "name": "stderr",
     "text": [
      "\n"
     ]
    },
    {
     "output_type": "stream",
     "name": "stdout",
     "text": [
      "\n",
      "--- Evaluation Metrics ---\n",
      "IoU       : 0.6598\n",
      "Accuracy  : 0.9328\n",
      "Precision : 0.7725\n",
      "Recall    : 0.8188\n",
      "F1 Score  : 0.7950\n"
     ]
    },
    {
     "output_type": "display_data",
     "data": {
      "text/plain": [
       "<Figure size 1000x400 with 2 Axes>"
      ],
      "image/png": "[encoded data removed]"
     },
     "metadata": {}
    }
   ]
  },
  {
   "cell_type": "markdown",
   "source": [
    "# Model save/load directory"
   ],
   "metadata": {
    "id": "xv0g8wLag0js"
   }
  },
  {
   "cell_type": "code",
   "source": [
    "import os\n",
    "import torch\n",
    "\n",
    "MODEL_DIR = r\"/content/drive/MyDrive/Segmentation Model\"\n",
    "#MODEL_DIR = r\"D:\\OneDrive - The Pennsylvania State University\\Research DATA\\Zebrafish Data\\ML models\"\n",
    "\n",
    "if not os.path.exists(MODEL_DIR):\n",
    "    os.makedirs(MODEL_DIR)\n"
   ],
   "metadata": {
    "id": "yNZPlv42gzHM"
   },
   "execution_count": null,
   "outputs": []
  },
  {
   "cell_type": "markdown",
   "source": [
    "# save model"
   ],
   "metadata": {
    "id": "30Irb_zeg57d"
   }
  },
  {
   "cell_type": "code",
   "source": [
    "# At end of training loop\n",
    "model_name = input(\"Enter a name for the trained model: \").strip()\n",
    "model_path = os.path.join(MODEL_DIR, f\"{model_name}.pt\")\n",
    "torch.save(model.state_dict(), model_path)\n",
    "print(f\"Model saved at {model_path}\")\n"
   ],
   "metadata": {
    "id": "k5GcGy2Qg8fL",
    "colab": {
     "base_uri": "https://localhost:8080/"
    },
    "outputId": "0304b7ba-87a5-4f17-c889-5f7db1d47b3f"
   },
   "execution_count": null,
   "outputs": [
    {
     "output_type": "stream",
     "name": "stdout",
     "text": [
      "Enter a name for the trained model: Model Ran 2nd time \n",
      "Model saved at /content/drive/MyDrive/Segmentation Model/Model Ran 2nd time.pt\n"
     ]
    }
   ]
  },
  {
   "cell_type": "markdown",
   "source": [
    "#load the model"
   ],
   "metadata": {
    "id": "_Qwi6qhZhDce"
   }
  },
  {
   "cell_type": "code",
   "source": [
    "\n",
    "# List available models\n",
    "print(\"Available models:\")\n",
    "models = [f for f in os.listdir(MODEL_DIR) if f.endswith('.pt')]\n",
    "for i, name in enumerate(models):\n",
    "    print(f\"{i + 1}. {name}\")\n",
    "\n",
    "# Ask user to pick one\n",
    "choice = int(input(\"Enter the number of the model to load for prediction: \")) - 1\n",
    "selected_model_path = os.path.join(MODEL_DIR, models[choice])\n",
    "\n",
    "# Define model structure first\n",
    "loaded_model = smp.Unet(in_channels=3, out_channels=1)  # Replace with your actual model class\n",
    "loaded_model.load_state_dict(torch.load(selected_model_path, map_location=device))\n",
    "loaded_model.to(device)\n",
    "loaded_model.eval()\n",
    "\n",
    "print(f\"Loaded model: {models[choice]}\")"
   ],
   "metadata": {
    "id": "5UmpeLoAhI5u",
    "colab": {
     "base_uri": "https://localhost:8080/"
    },
    "outputId": "c884bf9b-fd6c-43fb-c33c-e753a9b4ba9e"
   },
   "execution_count": null,
   "outputs": [
    {
     "output_type": "stream",
     "name": "stdout",
     "text": [
      "Available models:\n",
      "1. Best Model.pt\n",
      "2. Model Ran 2nd time.pt\n",
      "Enter the number of the model to load for prediction: 2\n",
      "Loaded model: Model Ran 2nd time.pt\n"
     ]
    }
   ]
  },
  {
   "cell_type": "code",
   "source": [
    "# Evaluation\n",
    "loaded_model.eval()\n",
    "y_true = []\n",
    "y_pred = []\n",
    "\n",
    "with torch.no_grad():\n",
    "    for images, masks in test_loader:\n",
    "        images = images.to(device)\n",
    "        outputs = loaded_model(images)\n",
    "        preds = torch.sigmoid(outputs).cpu().numpy() > 0.5\n",
    "        masks = masks.numpy()\n",
    "\n",
    "        y_true.extend(masks.reshape(-1))\n",
    "        y_pred.extend(preds.reshape(-1))\n",
    "\n",
    "# Compute Metrics\n",
    "iou = jaccard_score(y_true, y_pred)\n",
    "acc = accuracy_score(y_true, y_pred)\n",
    "prec = precision_score(y_true, y_pred)\n",
    "rec = recall_score(y_true, y_pred)\n",
    "f1 = f1_score(y_true, y_pred)\n",
    "\n",
    "print(\"\\n--- Evaluation Metrics ---\")\n",
    "print(f\"IoU       : {iou:.4f}\")\n",
    "print(f\"Accuracy  : {acc:.4f}\")\n",
    "print(f\"Precision : {prec:.4f}\")\n",
    "print(f\"Recall    : {rec:.4f}\")\n",
    "print(f\"F1 Score  : {f1:.4f}\")\n",
    "\n",
    "# Plot Loss and Accuracy\n",
    "plt.figure(figsize=(10, 4))\n",
    "plt.subplot(1, 2, 1)\n",
    "plt.plot(train_loss_per_epoch, label='Loss')\n",
    "plt.title('Training Loss by Epoch')\n",
    "plt.xlabel('Epoch')\n",
    "plt.ylabel('Loss')\n",
    "plt.grid()\n",
    "plt.legend()\n",
    "\n",
    "plt.subplot(1, 2, 2)\n",
    "plt.plot(accuracy_per_epoch, label='Accuracy')\n",
    "plt.title('Training Accuracy by Epoch')\n",
    "plt.xlabel('Epoch')\n",
    "plt.ylabel('Accuracy')\n",
    "plt.grid()\n",
    "plt.legend()\n",
    "plt.tight_layout()\n",
    "plt.show()\n"
   ],
   "metadata": {
    "id": "X76Llnpc_1E1",
    "colab": {
     "base_uri": "https://localhost:8080/",
     "height": 529
    },
    "outputId": "cd21a646-f5f1-4b2d-c4de-e3206e7b1bd1"
   },
   "execution_count": null,
   "outputs": [
    {
     "output_type": "stream",
     "name": "stdout",
     "text": [
      "\n",
      "--- Evaluation Metrics ---\n",
      "IoU       : 0.6598\n",
      "Accuracy  : 0.9328\n",
      "Precision : 0.7725\n",
      "Recall    : 0.8188\n",
      "F1 Score  : 0.7950\n"
     ]
    },
    {
     "output_type": "display_data",
     "data": {
      "text/plain": [
       "<Figure size 1000x400 with 2 Axes>"
      ],
      "image/png": "[encoded data removed]"
     },
     "metadata": {}
    }
   ]
  },
  {
   "cell_type": "code",
   "source": [
    "\n",
    "# Show predictions\n",
    "def show_prediction_examples(model, dataset, num=3):\n",
    "    model.eval()\n",
    "    plt.figure(figsize=(12, num * 4))\n",
    "    for i in range(num):\n",
    "        image, mask = dataset[i]\n",
    "        with torch.no_grad():\n",
    "            pred = torch.sigmoid(model(image.unsqueeze(0).to(device))).squeeze().cpu().numpy()\n",
    "            pred_bin = (pred > 0.5).astype('float32')\n",
    "\n",
    "        plt.subplot(num, 3, i*3+1)\n",
    "        plt.imshow(image.permute(1, 2, 0))\n",
    "        plt.title(\"Image\")\n",
    "\n",
    "        plt.subplot(num, 3, i*3+2)\n",
    "        plt.imshow(mask.squeeze(), cmap='gray')\n",
    "        plt.title(\"Ground Truth\")\n",
    "\n",
    "        plt.subplot(num, 3, i*3+3)\n",
    "        plt.imshow(pred_bin, cmap='gray')\n",
    "        plt.title(\"Prediction\")\n",
    "    plt.tight_layout()\n",
    "    plt.show()\n",
    "\n",
    "show_prediction_examples(loaded_model, test_dataset, num=3)\n"
   ],
   "metadata": {
    "id": "5YWVtYhdZHde",
    "colab": {
     "base_uri": "https://localhost:8080/",
     "height": 903
    },
    "outputId": "9fe71140-e57f-4ec9-dce2-844657cd796c"
   },
   "execution_count": null,
   "outputs": [
    {
     "output_type": "stream",
     "name": "stderr",
     "text": [
      "WARNING:matplotlib.image:Clipping input data to the valid range for imshow with RGB data ([0..1] for floats or [0..255] for integers). Got range [-1.9466563..2.6399999].\n",
      "WARNING:matplotlib.image:Clipping input data to the valid range for imshow with RGB data ([0..1] for floats or [0..255] for integers). Got range [-2.0007002..2.6399999].\n",
      "WARNING:matplotlib.image:Clipping input data to the valid range for imshow with RGB data ([0..1] for floats or [0..255] for integers). Got range [-2.0007002..2.6399999].\n"
     ]
    },
    {
     "output_type": "display_data",
     "data": {
      "text/plain": [
       "<Figure size 1200x1200 with 9 Axes>"
      ],
      "image/png": "[encoded data removed]"
     },
     "metadata": {}
    }
   ]
  },
  {
   "cell_type": "code",
   "source": [
    "# === Model Architecture (Isometric) — extra space between diagram and labels ===\n",
    "# Run this cell/script to save: model_architecture_isometric.png (300 DPI)\n",
    "\n",
    "import matplotlib.pyplot as plt\n",
    "from matplotlib.patches import Polygon, Rectangle, Patch\n",
    "from matplotlib.collections import PatchCollection\n",
    "\n",
    "# ---------- Appearance ----------\n",
    "LAYER_COLORS = {\n",
    "    \"Conv\":    \"#3aa655\",  # green\n",
    "    \"BN\":      \"#b97aff\",  # purple\n",
    "    \"Pool\":    \"#4f77ff\",  # blue\n",
    "    \"Dropout\": \"#7a7a7a\",  # gray\n",
    "    \"Flatten\": \"#4cc7c7\",  # teal\n",
    "    \"Dense\":   \"#b5a167\",  # gold\n",
    "}\n",
    "\n",
    "# Isometric depth (pseudo-3D)\n",
    "DEPTH_X = 0.28\n",
    "DEPTH_Y = 0.16\n",
    "\n",
    "# Block geometry & spacing\n",
    "BLOCK_W = 1.2\n",
    "BLOCK_H = 2.0\n",
    "GAP     = 0.50   # spacing between blocks\n",
    "\n",
    "# Fonts\n",
    "FS_LABEL   = 8.0\n",
    "FS_TITLE   = 16\n",
    "FS_LEGEND  = 10\n",
    "\n",
    "# ---------- EDIT THIS to match your network (order = left → right) ----------\n",
    "layers = [\n",
    "    # Stage 1\n",
    "    (\"Conv\",    \"Conv2D (64, 3×3)\"), (\"BN\", \"BatchNorm\"),\n",
    "    (\"Conv\",    \"Conv2D (64, 3×3)\"), (\"BN\", \"BatchNorm\"),\n",
    "    (\"Pool\",    \"MaxPool (2×2)\"),    (\"Dropout\", \"Dropout (0.10)\"),\n",
    "    # Stage 2\n",
    "    (\"Conv\",    \"Conv2D (128, 3×3)\"), (\"BN\", \"BatchNorm\"),\n",
    "    (\"Conv\",    \"Conv2D (128, 3×3)\"), (\"BN\", \"BatchNorm\"),\n",
    "    (\"Pool\",    \"MaxPool (2×2)\"),     (\"Dropout\", \"Dropout (0.10)\"),\n",
    "    # Stage 3\n",
    "    (\"Conv\",    \"Conv2D (256, 3×3)\"), (\"BN\", \"BatchNorm\"),\n",
    "    (\"Conv\",    \"Conv2D (256, 3×3)\"), (\"BN\", \"BatchNorm\"),\n",
    "    (\"Pool\",    \"MaxPool (2×2)\"),     (\"Dropout\", \"Dropout (0.10)\"),\n",
    "    # Stage 4\n",
    "    (\"Conv\",    \"Conv2D (512, 3×3)\"), (\"BN\", \"BatchNorm\"),\n",
    "    (\"Conv\",    \"Conv2D (512, 3×3)\"), (\"BN\", \"BatchNorm\"),\n",
    "    (\"Pool\",    \"MaxPool (2×2)\"),     (\"Dropout\", \"Dropout (0.10)\"),\n",
    "    # Head\n",
    "    (\"Flatten\", \"Flatten\"),\n",
    "    (\"Dense\",   \"Dense (1024)\"),\n",
    "    (\"Dropout\", \"Dropout (0.20)\"),\n",
    "    (\"Dense\",   \"Dense (4) → Softmax\"),\n",
    "]\n",
    "\n",
    "# ---------- Drawing helpers ----------\n",
    "def _darker(c, f=0.85):\n",
    "    import matplotlib.colors as mcolors\n",
    "    r, g, b = mcolors.to_rgb(c)\n",
    "    return (r*f, g*f, b*f)\n",
    "\n",
    "def draw_block(ax, x, y, w, h, depth_x, depth_y, facecolor, edgecolor=\"black\"):\n",
    "    front = Rectangle((x, y), w, h)\n",
    "    top   = Polygon([(x, y+h), (x+depth_x, y+h+depth_y),\n",
    "                     (x+w+depth_x, y+h+depth_y), (x+w, y+h)])\n",
    "    side  = Polygon([(x+w, y), (x+w+depth_x, y+depth_y),\n",
    "                     (x+w+depth_x, y+h+depth_y), (x+w, y+h)])\n",
    "    pc = PatchCollection(\n",
    "        [front, top, side],\n",
    "        facecolor=[facecolor, _darker(facecolor,0.92), _darker(facecolor,0.80)],\n",
    "        edgecolor=edgecolor, linewidth=0.7\n",
    "    )\n",
    "    ax.add_collection(pc)\n",
    "\n",
    "def add_label(ax, x, y, w, h, depth_x, depth_y, text):\n",
    "    # label sits ABOVE the block; tweak the offset to increase gap if needed\n",
    "    ax.text(x + w*0.08, y + h + depth_y + 0.32, text,\n",
    "            fontsize=FS_LABEL, ha=\"left\", va=\"bottom\", rotation=12)\n",
    "\n",
    "# ---------- Render ----------\n",
    "def render_layers(layers, title=\"Model Architecture\", out=\"model_architecture_isometric.png\"):\n",
    "    fig, ax = plt.subplots(figsize=(16, 6))  # a bit taller for breathing room\n",
    "    x, y = 0.5, 1.6                          # raise baseline so legend can sit well below\n",
    "\n",
    "    for kind, label in layers:\n",
    "        color = LAYER_COLORS.get(kind, \"#cccccc\")\n",
    "        draw_block(ax, x, y, BLOCK_W, BLOCK_H, DEPTH_X, DEPTH_Y, color)\n",
    "        add_label(ax, x, y, BLOCK_W, BLOCK_H, DEPTH_X, DEPTH_Y, label)\n",
    "        x += BLOCK_W + GAP\n",
    "\n",
    "    # Title (centered)\n",
    "    fig.suptitle(title, fontsize=FS_TITLE, y=0.97)\n",
    "\n",
    "    # Centered legend with EXTRA vertical gap from diagram\n",
    "    legend_items = [\n",
    "        (\"Conv\",\"Convolution\"), (\"BN\",\"BatchNorm\"), (\"Pool\",\"MaxPool\"),\n",
    "        (\"Dropout\",\"Dropout\"), (\"Flatten\",\"Flatten\"), (\"Dense\",\"Dense\")\n",
    "    ]\n",
    "    handles = [Patch(facecolor=LAYER_COLORS[k], edgecolor=\"black\", label=name)\n",
    "               for k, name in legend_items]\n",
    "\n",
    "    # Make room at bottom and push legend further down\n",
    "    plt.subplots_adjust(bottom=0.30)    # ↑ increase if you want even more space\n",
    "    ax.legend(\n",
    "        handles=handles,\n",
    "        loc=\"lower center\",\n",
    "        bbox_to_anchor=(0.5, -0.22),    # ↓ move legend farther below the axes\n",
    "        ncol=len(handles),\n",
    "        frameon=False,\n",
    "        fontsize=FS_LEGEND,\n",
    "        columnspacing=2.2,\n",
    "        handlelength=1.8,\n",
    "        handletextpad=0.7,\n",
    "        borderaxespad=0.8,\n",
    "    )\n",
    "\n",
    "    # Clean axes\n",
    "    ax.set_aspect(\"equal\")\n",
    "    ax.axis(\"off\")\n",
    "    ax.set_xlim(0, x + 1.0)\n",
    "    ax.set_ylim(0.3, y + BLOCK_H + 2.6)\n",
    "\n",
    "    plt.savefig(out, dpi=300, bbox_inches=\"tight\")\n",
    "    print(f\"[OK] Saved {out}\")\n",
    "\n",
    "# ---- run ----\n",
    "render_layers(layers, title=\"Model Architecture\", out=\"model_architecture_isometric.png\")\n"
   ],
   "metadata": {
    "id": "85XD4kuj-wuF",
    "outputId": "c319fca6-dd9f-4b29-c67d-e01cad32c051",
    "colab": {
     "base_uri": "https://localhost:8080/",
     "height": 378
    }
   },
   "execution_count": null,
   "outputs": [
    {
     "output_type": "stream",
     "name": "stdout",
     "text": [
      "[OK] Saved model_architecture_isometric.png\n"
     ]
    },
    {
     "output_type": "display_data",
     "data": {
      "text/plain": [
       "<Figure size 1600x600 with 1 Axes>"
      ],
      "image/png": "[encoded data removed]"
     },
     "metadata": {}
    }
   ]
  }
 ]
}